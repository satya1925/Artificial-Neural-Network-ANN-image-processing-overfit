{
 "cells": [
  {
   "cell_type": "code",
   "execution_count": 44,
   "id": "1b49eb5f-1cf7-46ba-abf3-2e757b87f828",
   "metadata": {},
   "outputs": [
    {
     "name": "stdout",
     "output_type": "stream",
     "text": [
      "([0, 1, 1, 1, 0, 1, 0, 0, 0, 1, 1, 0, 0, 0, 1, 1, 1, 1, 1, 1, 1, 0, 0, 0, 1, 1, 0, 0, 0, 1], [1, 1, 1, 1, 0, 1, 0, 0, 0, 1, 1, 1, 1, 1, 0, 1, 0, 0, 0, 1, 1, 0, 0, 0, 1, 1, 1, 1, 1, 0], [0, 1, 1, 1, 1, 1, 0, 0, 0, 0, 1, 0, 0, 0, 0, 1, 0, 0, 0, 0, 1, 0, 0, 0, 0, 0, 1, 1, 1, 1], [1, 1, 1, 0, 0, 1, 0, 0, 1, 0, 1, 0, 0, 0, 1, 1, 0, 0, 0, 1, 1, 0, 0, 1, 0, 1, 1, 1, 0, 0], [1, 1, 1, 1, 1, 1, 0, 0, 0, 0, 1, 1, 1, 1, 0, 1, 0, 0, 0, 0, 1, 0, 0, 0, 0, 1, 1, 1, 1, 1], [1, 1, 1, 1, 1, 1, 0, 0, 0, 0, 1, 1, 1, 1, 0, 1, 0, 0, 0, 0, 1, 0, 0, 0, 0, 1, 0, 0, 0, 0], [0, 1, 1, 1, 1, 1, 0, 0, 0, 0, 1, 0, 0, 0, 0, 1, 0, 1, 1, 1, 1, 0, 0, 0, 1, 0, 1, 1, 1, 0], [1, 0, 0, 0, 1, 1, 0, 0, 0, 1, 1, 1, 1, 1, 1, 1, 0, 0, 0, 1, 1, 0, 0, 0, 1, 1, 0, 0, 0, 1], [1, 1, 1, 1, 1, 0, 0, 1, 0, 0, 0, 0, 1, 0, 0, 0, 0, 1, 0, 0, 0, 0, 1, 0, 0, 1, 1, 1, 1, 1], [0, 0, 0, 0, 1, 0, 0, 0, 0, 1, 0, 0, 0, 0, 1, 1, 0, 0, 0, 1, 1, 0, 0, 0, 1, 0, 1, 1, 1, 0], [1, 0, 0, 0, 1, 1, 0, 0, 1, 0, 1, 0, 1, 0, 0, 1, 1, 0, 0, 0, 1, 0, 1, 0, 0, 1, 0, 0, 1, 0], [1, 0, 0, 0, 0, 1, 0, 0, 0, 0, 1, 0, 0, 0, 0, 1, 0, 0, 0, 0, 1, 0, 0, 0, 0, 1, 1, 1, 1, 1], [1, 0, 0, 0, 1, 1, 1, 0, 1, 1, 1, 0, 1, 0, 1, 1, 0, 0, 0, 1, 1, 0, 0, 0, 1, 1, 0, 0, 0, 1], [1, 0, 0, 0, 1, 1, 1, 0, 0, 1, 1, 0, 1, 0, 1, 1, 0, 0, 1, 1, 1, 0, 0, 0, 1, 1, 0, 0, 0, 1], [0, 1, 1, 1, 0, 1, 0, 0, 0, 1, 1, 0, 0, 0, 1, 1, 0, 0, 0, 1, 1, 0, 0, 0, 1, 0, 1, 1, 1, 0], [1, 1, 1, 1, 0, 1, 0, 0, 0, 1, 1, 1, 1, 1, 0, 1, 0, 0, 0, 0, 1, 0, 0, 0, 0, 1, 0, 0, 0, 0], [0, 1, 1, 1, 0, 1, 0, 0, 0, 1, 1, 0, 0, 0, 1, 1, 0, 1, 0, 1, 1, 0, 0, 1, 0, 0, 1, 1, 0, 1], [1, 1, 1, 1, 0, 1, 0, 0, 0, 1, 1, 1, 1, 1, 0, 1, 0, 1, 0, 0, 1, 0, 0, 1, 0, 1, 0, 0, 0, 1], [0, 1, 1, 1, 1, 1, 0, 0, 0, 0, 0, 1, 1, 1, 0, 0, 0, 0, 0, 1, 1, 0, 0, 0, 1, 0, 1, 1, 1, 0], [1, 1, 1, 1, 1, 0, 0, 1, 0, 0, 0, 0, 1, 0, 0, 0, 0, 1, 0, 0, 0, 0, 1, 0, 0, 0, 0, 1, 0, 0], [1, 0, 0, 0, 1, 1, 0, 0, 0, 1, 1, 0, 0, 0, 1, 1, 0, 0, 0, 1, 1, 0, 0, 0, 1, 0, 1, 1, 1, 0], [1, 0, 0, 0, 1, 1, 0, 0, 0, 1, 1, 0, 0, 0, 1, 1, 0, 0, 0, 1, 0, 1, 0, 1, 0, 0, 0, 1, 0, 0], [1, 0, 0, 0, 1, 1, 0, 0, 0, 1, 1, 0, 0, 0, 1, 1, 0, 1, 0, 1, 1, 1, 0, 1, 1, 1, 0, 0, 0, 1], [1, 0, 0, 0, 1, 1, 0, 0, 0, 1, 0, 1, 0, 1, 0, 0, 0, 1, 0, 0, 0, 1, 0, 1, 0, 1, 0, 0, 0, 1], [1, 0, 0, 0, 1, 1, 0, 0, 0, 1, 0, 1, 0, 1, 0, 0, 0, 1, 0, 0, 0, 0, 1, 0, 0, 0, 0, 1, 0, 0], [1, 1, 1, 1, 1, 0, 0, 0, 0, 1, 0, 0, 0, 1, 0, 0, 0, 1, 0, 0, 0, 1, 0, 0, 0, 1, 1, 1, 1, 1])\n",
      "('A', 'B', 'C', 'D', 'E', 'F', 'G', 'H', 'I', 'J', 'K', 'L', 'M', 'N', 'O', 'P', 'Q', 'R', 'S', 'T', 'U', 'V', 'W', 'X', 'Y', 'Z')\n"
     ]
    }
   ],
   "source": [
    "# Creating data set\n",
    "\n",
    "# A\n",
    "from abcd import a,b,c,d,e,f,g,h,i,j,k,l,m\n",
    "from abcd import letters, digits\n",
    "# Creating labels\n",
    "#y =[[1, 0, 0, 0, 0],[0, 1, 0 , 0, 0],[0, 0, 1, 0, 0],[0,0,0,1,0],[0,0,0,0,1]]\n",
    "what, xv = zip(*letters.items())\n",
    "print(xv)\n",
    "print(what)"
   ]
  },
  {
   "cell_type": "code",
   "execution_count": 45,
   "id": "fae3b425-9b26-441b-b17c-521d42de460a",
   "metadata": {},
   "outputs": [
    {
     "data": {
      "image/png": "[encoded data removed]",
      "text/plain": [
       "<Figure size 640x480 with 1 Axes>"
      ]
     },
     "metadata": {},
     "output_type": "display_data"
    }
   ],
   "source": [
    "import numpy as np\n",
    "import matplotlib.pyplot as plt\n",
    "# visualizing the data, plotting A.\n",
    "plt.imshow(np.array(a).reshape(5, 6))\n",
    "plt.show()\n"
   ]
  },
  {
   "cell_type": "code",
   "execution_count": 46,
   "id": "776e5b69-75ce-4100-96c2-eca66f197c7d",
   "metadata": {},
   "outputs": [
    {
     "data": {
      "image/png": "[encoded data removed]",
      "text/plain": [
       "<Figure size 640x480 with 1 Axes>"
      ]
     },
     "metadata": {},
     "output_type": "display_data"
    }
   ],
   "source": [
    "plt.imshow(np.array(b).reshape(5, 6))\n",
    "plt.show()"
   ]
  },
  {
   "cell_type": "code",
   "execution_count": 47,
   "id": "53c81a7a-4018-417e-9aea-11d10b65222e",
   "metadata": {},
   "outputs": [
    {
     "data": {
      "image/png": "[encoded data removed]",
      "text/plain": [
       "<Figure size 640x480 with 1 Axes>"
      ]
     },
     "metadata": {},
     "output_type": "display_data"
    }
   ],
   "source": [
    "plt.imshow(np.array(c).reshape(5, 6))\n",
    "plt.show()"
   ]
  },
  {
   "cell_type": "code",
   "execution_count": 48,
   "id": "f2430355-7021-4c50-9fd4-d24bbecea932",
   "metadata": {},
   "outputs": [
    {
     "name": "stdout",
     "output_type": "stream",
     "text": [
      "[array([[0, 1, 1, 1, 0, 1, 0, 0, 0, 1, 1, 0, 0, 0, 1, 1, 1, 1, 1, 1, 1, 0,\n",
      "        0, 0, 1, 1, 0, 0, 0, 1]]), array([[1, 1, 1, 1, 0, 1, 0, 0, 0, 1, 1, 1, 1, 1, 0, 1, 0, 0, 0, 1, 1, 0,\n",
      "        0, 0, 1, 1, 1, 1, 1, 0]]), array([[0, 1, 1, 1, 1, 1, 0, 0, 0, 0, 1, 0, 0, 0, 0, 1, 0, 0, 0, 0, 1, 0,\n",
      "        0, 0, 0, 0, 1, 1, 1, 1]]), array([[1, 1, 1, 0, 0, 1, 0, 0, 1, 0, 1, 0, 0, 0, 1, 1, 0, 0, 0, 1, 1, 0,\n",
      "        0, 1, 0, 1, 1, 1, 0, 0]]), array([[1, 1, 1, 1, 1, 1, 0, 0, 0, 0, 1, 1, 1, 1, 0, 1, 0, 0, 0, 0, 1, 0,\n",
      "        0, 0, 0, 1, 1, 1, 1, 1]]), array([[1, 1, 1, 1, 1, 1, 0, 0, 0, 0, 1, 1, 1, 1, 0, 1, 0, 0, 0, 0, 1, 0,\n",
      "        0, 0, 0, 1, 0, 0, 0, 0]]), array([[0, 1, 1, 1, 1, 1, 0, 0, 0, 0, 1, 0, 0, 0, 0, 1, 0, 1, 1, 1, 1, 0,\n",
      "        0, 0, 1, 0, 1, 1, 1, 0]]), array([[1, 0, 0, 0, 1, 1, 0, 0, 0, 1, 1, 1, 1, 1, 1, 1, 0, 0, 0, 1, 1, 0,\n",
      "        0, 0, 1, 1, 0, 0, 0, 1]]), array([[1, 1, 1, 1, 1, 0, 0, 1, 0, 0, 0, 0, 1, 0, 0, 0, 0, 1, 0, 0, 0, 0,\n",
      "        1, 0, 0, 1, 1, 1, 1, 1]]), array([[0, 0, 0, 0, 1, 0, 0, 0, 0, 1, 0, 0, 0, 0, 1, 1, 0, 0, 0, 1, 1, 0,\n",
      "        0, 0, 1, 0, 1, 1, 1, 0]]), array([[1, 0, 0, 0, 1, 1, 0, 0, 1, 0, 1, 0, 1, 0, 0, 1, 1, 0, 0, 0, 1, 0,\n",
      "        1, 0, 0, 1, 0, 0, 1, 0]]), array([[1, 0, 0, 0, 0, 1, 0, 0, 0, 0, 1, 0, 0, 0, 0, 1, 0, 0, 0, 0, 1, 0,\n",
      "        0, 0, 0, 1, 1, 1, 1, 1]]), array([[1, 0, 0, 0, 1, 1, 1, 0, 1, 1, 1, 0, 1, 0, 1, 1, 0, 0, 0, 1, 1, 0,\n",
      "        0, 0, 1, 1, 0, 0, 0, 1]]), array([[1, 0, 0, 0, 1, 1, 1, 0, 0, 1, 1, 0, 1, 0, 1, 1, 0, 0, 1, 1, 1, 0,\n",
      "        0, 0, 1, 1, 0, 0, 0, 1]]), array([[0, 1, 1, 1, 0, 1, 0, 0, 0, 1, 1, 0, 0, 0, 1, 1, 0, 0, 0, 1, 1, 0,\n",
      "        0, 0, 1, 0, 1, 1, 1, 0]]), array([[1, 1, 1, 1, 0, 1, 0, 0, 0, 1, 1, 1, 1, 1, 0, 1, 0, 0, 0, 0, 1, 0,\n",
      "        0, 0, 0, 1, 0, 0, 0, 0]]), array([[0, 1, 1, 1, 0, 1, 0, 0, 0, 1, 1, 0, 0, 0, 1, 1, 0, 1, 0, 1, 1, 0,\n",
      "        0, 1, 0, 0, 1, 1, 0, 1]]), array([[1, 1, 1, 1, 0, 1, 0, 0, 0, 1, 1, 1, 1, 1, 0, 1, 0, 1, 0, 0, 1, 0,\n",
      "        0, 1, 0, 1, 0, 0, 0, 1]]), array([[0, 1, 1, 1, 1, 1, 0, 0, 0, 0, 0, 1, 1, 1, 0, 0, 0, 0, 0, 1, 1, 0,\n",
      "        0, 0, 1, 0, 1, 1, 1, 0]]), array([[1, 1, 1, 1, 1, 0, 0, 1, 0, 0, 0, 0, 1, 0, 0, 0, 0, 1, 0, 0, 0, 0,\n",
      "        1, 0, 0, 0, 0, 1, 0, 0]]), array([[1, 0, 0, 0, 1, 1, 0, 0, 0, 1, 1, 0, 0, 0, 1, 1, 0, 0, 0, 1, 1, 0,\n",
      "        0, 0, 1, 0, 1, 1, 1, 0]]), array([[1, 0, 0, 0, 1, 1, 0, 0, 0, 1, 1, 0, 0, 0, 1, 1, 0, 0, 0, 1, 0, 1,\n",
      "        0, 1, 0, 0, 0, 1, 0, 0]]), array([[1, 0, 0, 0, 1, 1, 0, 0, 0, 1, 1, 0, 0, 0, 1, 1, 0, 1, 0, 1, 1, 1,\n",
      "        0, 1, 1, 1, 0, 0, 0, 1]]), array([[1, 0, 0, 0, 1, 1, 0, 0, 0, 1, 0, 1, 0, 1, 0, 0, 0, 1, 0, 0, 0, 1,\n",
      "        0, 1, 0, 1, 0, 0, 0, 1]]), array([[1, 0, 0, 0, 1, 1, 0, 0, 0, 1, 0, 1, 0, 1, 0, 0, 0, 1, 0, 0, 0, 0,\n",
      "        1, 0, 0, 0, 0, 1, 0, 0]]), array([[1, 1, 1, 1, 1, 0, 0, 0, 0, 1, 0, 0, 0, 1, 0, 0, 0, 1, 0, 0, 0, 1,\n",
      "        0, 0, 0, 1, 1, 1, 1, 1]])] \n",
      "\n",
      " [[1 0 0 0 0 0 0 0 0 0 0 0 0 0 0 0 0 0 0 0 0 0 0 0 0 0]\n",
      " [0 1 0 0 0 0 0 0 0 0 0 0 0 0 0 0 0 0 0 0 0 0 0 0 0 0]\n",
      " [0 0 1 0 0 0 0 0 0 0 0 0 0 0 0 0 0 0 0 0 0 0 0 0 0 0]\n",
      " [0 0 0 1 0 0 0 0 0 0 0 0 0 0 0 0 0 0 0 0 0 0 0 0 0 0]\n",
      " [0 0 0 0 1 0 0 0 0 0 0 0 0 0 0 0 0 0 0 0 0 0 0 0 0 0]\n",
      " [0 0 0 0 0 1 0 0 0 0 0 0 0 0 0 0 0 0 0 0 0 0 0 0 0 0]\n",
      " [0 0 0 0 0 0 1 0 0 0 0 0 0 0 0 0 0 0 0 0 0 0 0 0 0 0]\n",
      " [0 0 0 0 0 0 0 1 0 0 0 0 0 0 0 0 0 0 0 0 0 0 0 0 0 0]\n",
      " [0 0 0 0 0 0 0 0 1 0 0 0 0 0 0 0 0 0 0 0 0 0 0 0 0 0]\n",
      " [0 0 0 0 0 0 0 0 0 1 0 0 0 0 0 0 0 0 0 0 0 0 0 0 0 0]\n",
      " [0 0 0 0 0 0 0 0 0 0 1 0 0 0 0 0 0 0 0 0 0 0 0 0 0 0]\n",
      " [0 0 0 0 0 0 0 0 0 0 0 1 0 0 0 0 0 0 0 0 0 0 0 0 0 0]\n",
      " [0 0 0 0 0 0 0 0 0 0 0 0 1 0 0 0 0 0 0 0 0 0 0 0 0 0]\n",
      " [0 0 0 0 0 0 0 0 0 0 0 0 0 1 0 0 0 0 0 0 0 0 0 0 0 0]\n",
      " [0 0 0 0 0 0 0 0 0 0 0 0 0 0 1 0 0 0 0 0 0 0 0 0 0 0]\n",
      " [0 0 0 0 0 0 0 0 0 0 0 0 0 0 0 1 0 0 0 0 0 0 0 0 0 0]\n",
      " [0 0 0 0 0 0 0 0 0 0 0 0 0 0 0 0 1 0 0 0 0 0 0 0 0 0]\n",
      " [0 0 0 0 0 0 0 0 0 0 0 0 0 0 0 0 0 1 0 0 0 0 0 0 0 0]\n",
      " [0 0 0 0 0 0 0 0 0 0 0 0 0 0 0 0 0 0 1 0 0 0 0 0 0 0]\n",
      " [0 0 0 0 0 0 0 0 0 0 0 0 0 0 0 0 0 0 0 1 0 0 0 0 0 0]\n",
      " [0 0 0 0 0 0 0 0 0 0 0 0 0 0 0 0 0 0 0 0 1 0 0 0 0 0]\n",
      " [0 0 0 0 0 0 0 0 0 0 0 0 0 0 0 0 0 0 0 0 0 1 0 0 0 0]\n",
      " [0 0 0 0 0 0 0 0 0 0 0 0 0 0 0 0 0 0 0 0 0 0 1 0 0 0]\n",
      " [0 0 0 0 0 0 0 0 0 0 0 0 0 0 0 0 0 0 0 0 0 0 0 1 0 0]\n",
      " [0 0 0 0 0 0 0 0 0 0 0 0 0 0 0 0 0 0 0 0 0 0 0 0 1 0]\n",
      " [0 0 0 0 0 0 0 0 0 0 0 0 0 0 0 0 0 0 0 0 0 0 0 0 0 1]]\n",
      "26 30\n"
     ]
    }
   ],
   "source": [
    "# converting data and labels into numpy array\n",
    "\n",
    "\"\"\"\n",
    "Convert the matrix of 0 and 1 into one hot vector \n",
    "so that we can directly feed it to the neural network,\n",
    "these vectors are then stored in a list x.\n",
    "\"\"\"\n",
    "\n",
    "#x =[np.array(a).reshape(1, 30), np.array(b).reshape(1, 30), np.array(c).reshape(1, 30), np.array(d).reshape(1,30), np.array(e).reshape(1,30)]\n",
    "x = [np.array(i).reshape(1, 30) for i in xv]\n",
    "l = len(x)\n",
    "inputl = len(x[0][0])\n",
    "y = [[0 if i != j else 1 for i in range(l)] for j in range(l)]\n",
    "# Labels are also converted into NumPy array\n",
    "y = np.array(y)\n",
    "\n",
    "\n",
    "print(x, \"\\n\\n\", y)\n",
    "print(l,inputl)"
   ]
  },
  {
   "cell_type": "code",
   "execution_count": 49,
   "id": "a43e3060-f64d-4122-ab15-503151e51792",
   "metadata": {},
   "outputs": [],
   "source": [
    "# activation function\n",
    "\n",
    "def sigmoid(x):\n",
    "\treturn(1/(1 + np.exp(-x)))\n",
    "\n",
    "# Creating the Feed forward neural network\n",
    "# 1 Input layer(1, 30)\n",
    "# 1 hidden layer (1, 5)\n",
    "# 1 output layer(3, 3)\n",
    "\n",
    "def f_forward(x, w1, w2):\n",
    "\t# hidden\n",
    "\tz1 = x.dot(w1)# input from layer 1 \n",
    "\ta1 = sigmoid(z1)# out put of layer 2 \n",
    "\t\n",
    "\t# Output layer\n",
    "\tz2 = a1.dot(w2)# input of out layer\n",
    "\ta2 = sigmoid(z2)# output of out layer\n",
    "\treturn(a2)\n",
    "\n",
    "# initializing the weights randomly\n",
    "def generate_wt(x, y):\n",
    "\tl =[]\n",
    "\tfor i in range(x * y):\n",
    "\t\tl.append(np.random.randn())\n",
    "\treturn(np.array(l).reshape(x, y))\n",
    "\t\n",
    "# for loss we will be using mean square error(MSE)\n",
    "def loss(out, Y):\n",
    "\ts =(np.square(out-Y))\n",
    "\ts = np.sum(s)/len(y)\n",
    "\treturn(s)\n",
    "\n",
    "# Back propagation of error \n",
    "def back_prop(x, y, w1, w2, alpha):\n",
    "\t\n",
    "\t# hidden layer\n",
    "\tz1 = x.dot(w1)# input from layer 1 \n",
    "\ta1 = sigmoid(z1)# output of layer 2 \n",
    "\t\n",
    "\t# Output layer\n",
    "\tz2 = a1.dot(w2)# input of out layer\n",
    "\ta2 = sigmoid(z2)# output of out layer\n",
    "\t# error in output layer\n",
    "\td2 =(a2-y)\n",
    "\td1 = np.multiply((w2.dot((d2.transpose()))).transpose(), \n",
    "\t\t\t\t\t\t\t\t(np.multiply(a1, 1-a1)))\n",
    "\n",
    "\t# Gradient for w1 and w2\n",
    "\tw1_adj = x.transpose().dot(d1)\n",
    "\tw2_adj = a1.transpose().dot(d2)\n",
    "\t\n",
    "\t# Updating parameters\n",
    "\tw1 = w1-(alpha*(w1_adj))\n",
    "\tw2 = w2-(alpha*(w2_adj))\n",
    "\t\n",
    "\treturn(w1, w2)\n",
    "\n",
    "def train(x, Y, w1, w2, alpha = 0.01, epoch = 100):\n",
    "\tacc =[]\n",
    "\tlosss =[]\n",
    "\tfor j in range(epoch):\n",
    "\t\tl =[]\n",
    "\t\tfor i in range(len(x)):\n",
    "\t\t\tout = f_forward(x[i], w1, w2)\n",
    "\t\t\tl.append((loss(out, Y[i])))\n",
    "\t\t\tw1, w2 = back_prop(x[i], y[i], w1, w2, alpha)\n",
    "\t\tprint(\"epochs:\", j + 1, \"=== acc:\", (1-(sum(l)/len(x)))*100, \" and loss: \",sum(l)/len(l)) \n",
    "\t\tacc.append((1-(sum(l)/len(x)))*100)\n",
    "\t\tlosss.append(sum(l)/len(x))\n",
    "\treturn(acc, losss, w1, w2)\n",
    "\n",
    "#lables\n",
    "#what = [\"A\",\"B\",\"C\",\"D\",\"E\",\"F\",\"G\",\"H\",\"I\",\"J\",\"K\",\"L\",\"M\",\"N\",\"O\",\"P\",\"Q\",\"R\",\"S\",\"T\",\"U\",\"V\",\"W\",\"X\",\"Y\",\"Z\"]\n",
    "def predict(x, w1, w2):\n",
    "\tOut = f_forward(x, w1, w2)\n",
    "\tmaxm = 0\n",
    "\tk = 0\n",
    "\tfor i in range(len(Out[0])):\n",
    "\t\tif(maxm<Out[0][i]):\n",
    "\t\t\tmaxm = Out[0][i]\n",
    "\t\t\tk = i\n",
    "    \n",
    "\t'''if(k == 0):\n",
    "\t\tprint(\"Image is of letter A.\")\n",
    "\telif(k == 1):\n",
    "\t\tprint(\"Image is of letter B.\")\n",
    "\telse:\n",
    "\t\tprint(\"Image is of letter C.\")'''\n",
    "    \n",
    "\tplt.imshow(x.reshape(6,5))\n",
    "\tplt.show(); print(\"Image is of letter \",what[k],k)"
   ]
  },
  {
   "cell_type": "code",
   "execution_count": 50,
   "id": "11a56a52-b550-4cd7-8303-668de10e9627",
   "metadata": {},
   "outputs": [
    {
     "name": "stdout",
     "output_type": "stream",
     "text": [
      "27\n"
     ]
    }
   ],
   "source": [
    "#w1 = generate_wt(30, 6)\n",
    "#w2 = generate_wt(6, 5)\n",
    "hidden = int((inputl*l)**0.5)#13\n",
    "print(hidden)\n",
    "#w1 = generate_wt(inputl, hidden) # weight for input and hidden nodes\n",
    "#w2 = generate_wt(hidden, l) # Weight for hidden nodes and output node\n",
    "#print(w1, \"\\n\\n\", w2)\n"
   ]
  },
  {
   "cell_type": "code",
   "execution_count": 51,
   "id": "6a58745c-e59e-4a65-8731-90f65fe8b44f",
   "metadata": {},
   "outputs": [
    {
     "name": "stdout",
     "output_type": "stream",
     "text": [
      "[[-5.92327987e-01 -2.13063015e+00  9.21730237e-01  2.96263850e+00\n",
      "  -1.19815876e+00  1.68224446e+00 -5.39651869e-01  1.78734909e-01\n",
      "   9.80603885e-01 -2.03963228e-01 -2.50498996e+00  7.39062602e-01\n",
      "   1.71315651e+00 -1.88601498e+00  2.80967107e+00  1.35880661e-01\n",
      "  -1.48779895e+00  7.93041551e-01  8.42476728e-01  6.68437678e-01\n",
      "   1.43211021e+00 -3.36368081e-01  3.16837251e-01  5.79064119e-01\n",
      "   8.81300663e-01 -3.16329985e+00 -8.96636626e-01]\n",
      " [ 7.92962651e-01  1.30265880e+00  3.41458331e+00 -2.07067210e+00\n",
      "   1.20145479e+00 -2.00474629e-02 -1.33434337e+00  2.00334079e+00\n",
      "  -9.08351829e-01  1.34124632e-01 -1.80914084e-01 -4.82143253e-01\n",
      "   1.86969887e-01 -1.47648317e+00 -1.82718378e+00  1.15652588e+00\n",
      "  -4.42218621e-01  8.18482103e-01 -8.10605753e-01 -1.39299246e+00\n",
      "   1.92661043e-01  1.03401654e+00 -1.04494068e+00 -6.50991703e-01\n",
      "  -2.46416571e+00  7.13126431e-01 -2.17980505e-01]\n",
      " [-1.36274928e+00  1.85447187e+00  1.92615299e+00  2.88688061e-01\n",
      "  -7.03149846e-01  3.51789429e-01 -1.57058090e+00 -6.50768854e-01\n",
      "  -1.18605539e-01 -1.11379105e+00 -1.36885147e+00 -3.81156140e-01\n",
      "   3.28255190e-01  4.84509156e-01 -4.14943441e-02  1.28386447e+00\n",
      "  -1.09932009e+00 -5.26402981e-01  3.46689259e-01 -8.34291351e-01\n",
      "   6.17784793e-01  2.33951890e+00  1.14435998e+00  3.13063762e-01\n",
      "  -1.22543130e+00  1.35061148e+00  2.12073214e+00]\n",
      " [ 1.74845223e-01  1.66005026e+00  8.22473286e-01 -2.42121299e+00\n",
      "  -6.36028148e-01  5.84891553e-01 -2.23376222e+00 -1.50093968e+00\n",
      "   2.05477820e+00 -6.97558917e-01  1.82381215e+00  7.88108869e-02\n",
      "   2.07758808e+00  1.73049022e+00  7.59240634e-01 -5.24341464e-02\n",
      "   1.65200858e+00 -8.81412762e-02 -1.45945324e+00 -2.23719180e+00\n",
      "  -5.51051749e-03  1.66445974e+00 -6.14199253e-01  1.49620197e+00\n",
      "  -4.53326623e-01  1.38920562e+00  1.55843349e-01]\n",
      " [ 1.86874897e+00  8.98715757e-01  1.00962673e+00 -1.06809379e+00\n",
      "   4.43794297e+00  1.20635537e+00  9.42976527e-01  3.37367945e+00\n",
      "  -1.01960364e+00  2.60192156e+00  1.50677422e+00 -1.54022785e+00\n",
      "  -7.80267780e-01 -1.18186607e+00 -1.12666634e+00  8.42926163e-01\n",
      "   4.67735753e+00 -1.01808689e+00 -1.40124107e+00  7.40061895e-01\n",
      "  -1.58482024e-01  5.43199053e-01 -1.94250545e+00  2.17252382e+00\n",
      "   4.37220152e-01 -1.86268428e+00 -1.54220332e-01]\n",
      " [-1.62996805e+00 -6.24853577e-01  4.13448685e-01  2.30199747e-01\n",
      "  -3.18961127e-01  2.19083392e+00 -1.19683496e+00 -5.61400564e-01\n",
      "  -5.99644184e-01  4.15381639e-01  1.79571838e+00  3.51796462e-01\n",
      "   1.49901606e+00  2.31973844e+00 -1.36617527e+00 -3.65971442e+00\n",
      "   7.01998427e-03 -1.38878470e-01  1.33311413e+00 -1.45915491e+00\n",
      "  -8.54027645e-01 -1.30602093e+00  3.37068846e+00  5.09089115e-01\n",
      "   4.47385475e-01 -1.54729635e+00 -2.58802045e-01]\n",
      " [-3.33636036e-01 -2.72285442e-01  9.29157946e-01  6.11240213e-01\n",
      "  -5.16064959e-03  2.27917580e-01  1.03117780e+00  2.24671765e-01\n",
      "  -3.19617054e-01  2.71782386e+00 -2.31982015e+00 -7.76428265e-01\n",
      "  -3.91459713e-01 -2.32575221e-01  9.63401298e-01 -8.18538943e-01\n",
      "   4.38544275e-01 -7.52276412e-02 -6.89482468e-01  3.61647698e-01\n",
      "   1.54044975e+00  3.36547677e-01  6.46492245e-01  3.62143312e+00\n",
      "  -1.00178328e+00 -5.20996099e-01 -4.13193214e-01]\n",
      " [ 1.28107090e+00 -8.11911575e-01  7.05301383e-02 -1.11230574e+00\n",
      "  -5.42173579e-01 -1.39689651e+00  6.32704997e-01  8.15099581e-01\n",
      "  -1.49748774e-01 -8.80008437e-01 -2.41368671e-01 -3.23329227e-01\n",
      "  -8.38090895e-01  5.73118215e-01  5.88108065e-01  3.64298650e-01\n",
      "  -8.38851522e-01  2.38483467e+00 -4.94728769e-02 -1.46788730e+00\n",
      "   5.64036596e-02  6.26406877e-01 -7.43576611e-01 -3.47568162e+00\n",
      "   4.20403547e-01 -8.53210106e-01 -3.14791122e+00]\n",
      " [-7.47595104e-01 -9.99118305e-01  3.00725141e+00  1.42655754e+00\n",
      "   2.31082070e+00 -5.42700366e-01 -1.28963532e+00  2.05264834e+00\n",
      "  -3.60065078e+00  2.02654547e+00  2.98316681e-01  6.33038075e-01\n",
      "   2.05268114e-02 -1.85387200e+00 -1.44381956e+00 -5.50396025e-02\n",
      "  -1.69887167e+00 -3.49569148e-01  1.29916465e+00  2.24736552e+00\n",
      "   1.88728598e+00 -1.44267009e+00 -1.63974782e+00 -1.35731040e-01\n",
      "   3.13003967e+00 -2.21076394e-01  1.31261633e+00]\n",
      " [ 1.43213587e+00  2.18560695e+00 -1.35844732e-01  1.03593164e+00\n",
      "  -3.19544750e+00 -9.70913067e-01  1.13922331e+00 -8.08698383e-01\n",
      "   1.75534595e+00 -1.11477044e+00 -2.40749049e+00 -9.40199354e-01\n",
      "   2.38153398e-01 -3.35133060e+00 -9.76791823e-01  7.53733579e-01\n",
      "  -1.13741961e+00  1.33391260e+00  2.17180416e+00 -4.86378754e-01\n",
      "  -2.06044024e-01  2.48982502e+00  1.90869295e+00  2.66023625e-02\n",
      "   6.40154626e-02 -5.08423806e-01  3.61996598e+00]\n",
      " [-3.24989237e+00 -9.44279344e-01  5.95144375e-01  1.19713208e+00\n",
      "  -2.38778597e+00  8.15175047e-01 -1.56185220e-01 -1.94649522e+00\n",
      "   1.77068789e+00  2.60940128e+00  1.44843172e+00  3.14858470e+00\n",
      "   2.06137522e-01 -8.82285357e-01  8.62891510e-01 -1.22133148e+00\n",
      "  -1.92084095e+00 -1.11387977e-01  1.20303677e+00 -3.88826856e-03\n",
      "   3.43608780e-01  4.62281861e-01  5.40594052e-01 -7.64503908e-02\n",
      "   6.63478041e-01 -1.79380955e+00  6.93827366e-01]\n",
      " [ 9.51639470e-01  9.72086162e-01 -2.30212365e+00 -3.40538516e-01\n",
      "   2.41521561e-01  7.88278604e-02  7.46717019e-02  8.93116415e-01\n",
      "  -1.15665409e+00 -4.87345602e-01  6.39345824e-01  2.50085158e-01\n",
      "   2.25918041e+00 -3.72131054e+00  9.60306832e-01  3.99016857e+00\n",
      "  -4.30607900e-01 -1.85388206e-01 -2.72434915e+00  9.81923939e-01\n",
      "   4.90607764e-01 -5.87872804e-01  1.09113596e+00 -6.40268565e-01\n",
      "  -2.82277139e+00 -9.93246393e-01 -9.73369443e-01]\n",
      " [-2.27966104e+00 -1.69765164e-01 -2.65261123e+00 -9.02686926e-01\n",
      "   1.12045406e+00 -1.84686160e+00  3.54502143e-01  1.89037514e+00\n",
      "  -2.16346355e-01 -1.36629413e+00  5.18063860e-01  9.32445417e-01\n",
      "   6.39128088e-02  3.32855079e-01  3.34493406e+00  1.03427286e+00\n",
      "   1.11367322e+00  1.62694532e+00 -3.02950212e-02 -1.11482564e+00\n",
      "  -2.69138792e-01  8.80342074e-01 -3.92294552e-02 -5.92571567e-01\n",
      "  -1.33697070e+00  9.04774371e-01 -2.03962620e+00]\n",
      " [ 2.49051165e+00  3.13273714e-01  6.53016124e-01 -3.61860684e-01\n",
      "   1.40710112e+00  1.86667375e+00 -1.13597796e+00 -1.78089270e+00\n",
      "   2.26846146e-02 -1.40308177e+00  3.44173899e+00 -1.71758786e-02\n",
      "  -7.09080053e-02 -1.32017033e+00  1.19121632e+00 -7.36140849e-01\n",
      "  -2.09480225e+00 -2.11338826e+00 -1.44798043e+00  7.79148382e-01\n",
      "   1.05683736e-01 -9.67043829e-01  1.57082767e+00 -1.83852835e+00\n",
      "  -1.38971858e+00 -1.15789472e+00  1.34177403e+00]\n",
      " [-1.65241572e-01  1.87362208e-02 -1.26229954e-01  3.43888705e-01\n",
      "   2.96857963e+00  1.40022129e+00 -1.57962498e-01 -2.10963280e+00\n",
      "  -1.23457778e+00  1.40168686e-01 -2.09332622e+00  1.82017068e+00\n",
      "   4.97491505e-01 -1.55565255e+00 -1.27824579e+00 -4.72478358e-01\n",
      "   9.95033269e-02  1.68955363e+00  1.42118003e+00 -1.73829598e+00\n",
      "   4.71290943e-01 -5.70885997e-01  5.04018638e-01 -8.16820875e-01\n",
      "  -1.60061690e-01  2.50526271e+00 -4.32504560e+00]\n",
      " [ 2.02786658e+00 -4.47946816e-01  4.57434373e-02 -2.61754284e-01\n",
      "   9.10562350e-01  7.37204291e-01 -1.41439673e+00 -2.05744493e-01\n",
      "   1.68839597e+00  1.29523166e+00  1.08075002e+00  2.24188098e+00\n",
      "   1.79961194e+00 -7.64366488e-01  2.13176717e+00  4.14954455e+00\n",
      "   7.91058631e-01  1.77902903e+00  2.38043024e+00 -2.70838944e+00\n",
      "  -2.95913054e+00  4.98216734e-01 -1.60630097e+00  5.74358799e-01\n",
      "   4.12540841e-01  8.45682196e-01  1.11073543e+00]\n",
      " [ 2.37977716e+00  1.99694540e-01 -1.42935465e+00  2.14309927e-01\n",
      "  -1.43375292e+00  1.03862858e+00 -2.58076743e-01 -1.15089720e+00\n",
      "   6.13338442e-01  6.38570550e-01  2.02585652e-01 -7.61626415e-01\n",
      "  -6.81689245e-01 -6.57220765e-01 -2.24097918e+00  7.60272092e-01\n",
      "  -1.87759780e+00  1.35731553e+00  7.60454378e-01  7.50201095e-01\n",
      "  -1.22386732e+00 -1.66690789e+00  1.68561483e+00 -3.42513333e-01\n",
      "   6.49644335e-02 -1.10446896e+00  3.21412459e-01]\n",
      " [-4.42608843e-01 -1.95791730e+00 -3.35104324e-01  5.01901327e-01\n",
      "  -3.42222094e+00 -4.42418867e-01 -2.40391082e-01  1.14886576e+00\n",
      "   1.42276260e+00 -1.33646475e+00  2.51261405e+00 -5.81713079e-01\n",
      "  -3.03434538e-02 -5.63261366e-01  7.97804958e-03 -1.49815911e+00\n",
      "  -3.36370865e-01 -1.58387558e+00  6.82265575e-01  1.91814836e+00\n",
      "   3.08795574e+00  1.27057714e+00 -2.57616982e+00 -3.01448460e+00\n",
      "   8.28001116e-01  1.19524933e+00 -7.29500800e-01]\n",
      " [ 1.28255180e+00 -1.47975686e+00 -3.37448702e-01  9.64339309e-01\n",
      "  -3.31683630e-01 -9.71094944e-02  9.74172586e-01 -3.96106172e-01\n",
      "   1.81656305e+00  7.50154861e-01 -7.04449704e-02 -1.04148068e+00\n",
      "   1.07376731e+00  7.61466985e-01 -1.12084312e+00 -2.13880843e+00\n",
      "   1.89540935e+00 -7.23613911e-01 -5.82518377e-01 -5.03599502e+00\n",
      "   1.05496976e+00  3.78617315e+00 -1.86353852e+00  2.26102250e-01\n",
      "  -2.32809493e+00 -3.29026421e+00 -1.34472102e+00]\n",
      " [-1.02498619e+00  9.17280274e-04 -6.70391649e-01 -1.19149071e+00\n",
      "  -1.27707042e+00  1.54701113e+00  1.39304846e+00 -1.40488086e+00\n",
      "  -2.06015512e+00 -1.87128651e+00 -8.22182240e-01  5.50925421e-01\n",
      "  -2.70849124e-01 -2.59053745e-03 -1.28168408e+00  6.21734995e-01\n",
      "   5.46444173e-01  3.41021763e-01 -9.74672337e-01  2.52448201e+00\n",
      "   3.37392124e+00 -1.84109709e+00 -9.87328043e-02 -1.06253543e+00\n",
      "   9.38592637e-02 -3.07052832e-01 -4.62827404e+00]\n",
      " [ 6.21450105e-01  1.24866049e+00 -3.12836797e-01 -1.70700128e+00\n",
      "  -2.36539588e-01  1.49853993e+00  3.10284793e-01 -1.26273080e-01\n",
      "   3.83192581e-01  3.55753930e-01  1.79920094e+00  2.97009205e+00\n",
      "  -6.79622026e-01 -4.82511483e-01  1.20138839e+00 -2.75003636e-01\n",
      "   6.56240754e-01 -2.46401356e-02  1.60918003e+00  9.95371826e-01\n",
      "  -1.06833086e+00 -1.52505932e+00 -4.25108261e-01 -2.16774865e-01\n",
      "  -1.44795307e+00 -1.53974834e-01 -9.50617426e-01]\n",
      " [ 8.80582912e-01  1.14575566e+00  3.56353201e+00  1.45803890e+00\n",
      "  -2.02277308e+00  1.25620801e+00 -1.26704707e+00 -2.31264418e+00\n",
      "   2.73295628e+00 -1.39793206e+00  1.76447986e-01  2.30020783e+00\n",
      "  -1.75321689e-01 -1.95604611e-02  3.79550689e-01 -7.92591859e-01\n",
      "   1.86771322e+00 -2.38164947e+00 -1.62220876e+00 -9.56202204e-01\n",
      "   1.59127110e+00 -2.16386861e-01  1.83113742e+00  1.64485243e+00\n",
      "   1.40505925e+00 -9.73594590e-01  4.38391792e-01]\n",
      " [-5.08017193e-01 -4.52052164e-01 -1.09283760e+00  1.14055209e+00\n",
      "  -1.16202937e+00  7.24200388e-01  3.97868020e-01 -2.73942717e-01\n",
      "   1.01115313e+00  1.45661032e+00  1.11497329e+00 -9.88137448e-01\n",
      "   1.58176882e+00  1.74573682e+00 -7.34772310e-01  4.69319431e-01\n",
      "   2.33504457e+00  2.19163636e+00  2.57071014e+00  2.20166775e+00\n",
      "  -9.11787838e-01  2.13114275e+00  2.34830888e-01 -7.74305577e-01\n",
      "   4.88770154e-01  2.10432687e-01  1.80870770e+00]\n",
      " [-2.50496359e+00  1.92511192e-01 -2.16019904e+00  3.59490047e-01\n",
      "   1.25562691e+00  5.62789248e-01 -3.69479913e-01  2.18874762e+00\n",
      "   3.82461278e-01  1.52195280e+00  1.44838347e+00  8.83591232e-01\n",
      "   1.11847044e-03 -2.30862276e+00  9.16816802e-02  3.00713855e+00\n",
      "   1.33124534e+00 -4.09905879e+00 -2.34941363e-03  8.25515290e-01\n",
      "  -1.89822576e-01 -3.93006812e+00 -2.50481629e-01 -2.76902393e+00\n",
      "   7.51312653e-01  2.21421067e-01  3.25006169e-01]\n",
      " [-1.84883856e-01  2.17532357e+00  2.21874523e+00 -1.20645648e+00\n",
      "   2.93202087e-01  1.06225716e+00 -2.26515957e-01 -1.59866414e+00\n",
      "  -9.44194669e-01 -2.47120943e+00 -1.31334461e-01  3.04921773e-01\n",
      "   3.93043451e-01  3.27106213e-01  2.28837299e-01 -3.77159212e+00\n",
      "  -1.11414775e+00  1.13375709e+00  2.51699039e-01  2.50532853e+00\n",
      "   2.66275619e+00 -9.41552565e-01 -1.47793353e-01  1.10009532e-01\n",
      "   1.77362975e-01 -6.12257924e-01  2.58930304e-01]\n",
      " [ 1.58586383e+00  8.20714956e-02 -8.30422473e-01  3.07736239e+00\n",
      "  -1.24871408e-02 -1.47464136e+00 -1.63265347e+00  6.67966836e-01\n",
      "   1.42435260e-01 -2.05859227e+00 -2.26620202e+00  1.47076185e+00\n",
      "   6.27048912e-01 -7.80211523e-01  9.29020407e-01 -2.48124840e-01\n",
      "   1.06233174e+00  4.13256674e-01 -3.33303721e+00  1.95002715e+00\n",
      "  -9.35854580e-01  3.00465680e-01 -3.85976214e+00 -3.46048288e-01\n",
      "   5.24260696e-01  1.16600543e+00 -1.91237963e+00]\n",
      " [-2.02534445e-01 -1.56031276e+00 -3.30741532e+00 -1.16337198e+00\n",
      "   4.23067838e-01 -6.29738099e-01  1.58649114e+00 -2.51051709e+00\n",
      "   5.47675324e-01 -4.17122712e-02 -3.21522850e-01  7.07485181e-01\n",
      "  -2.89687053e+00  1.85165296e+00 -1.84149305e+00 -7.24134132e-01\n",
      "  -6.81615850e-01 -9.18091974e-01 -1.49715129e+00  2.19931903e+00\n",
      "  -8.77502862e-02 -2.76810356e+00 -5.58017489e-01  6.37794238e-01\n",
      "  -3.59655586e+00  2.19648866e+00 -1.88575193e+00]\n",
      " [-1.31690136e+00 -1.07515484e+00  3.71992613e-01 -3.15307289e-01\n",
      "  -7.10788629e-01  4.72053606e-01 -1.17362551e+00 -1.33618810e+00\n",
      "   1.64018121e-01  3.87536396e+00 -2.37399183e+00 -8.32829638e-01\n",
      "   6.35296876e-01  3.10171067e+00 -2.07896666e+00  6.64866752e-03\n",
      "  -7.43745233e-01 -1.61250041e+00  7.55552320e-01 -8.19017412e-01\n",
      "   1.21341979e+00 -5.91368680e-01  9.58887255e-01  5.08576664e-01\n",
      "  -1.68001893e+00  2.38894385e+00  2.81315917e-01]\n",
      " [-2.18277752e-01 -2.43038519e+00 -2.01168742e+00  1.06383444e+00\n",
      "   2.01981434e-01 -3.06210899e-01  1.06239363e+00 -6.29987852e-01\n",
      "   1.80751528e+00 -9.20398253e-01 -2.77800793e+00  1.92194705e+00\n",
      "   1.37803390e+00  3.25476257e-01 -1.34501031e+00  4.92595588e-01\n",
      "  -6.35665659e-01 -2.42958757e-01 -1.84648838e+00  1.22229312e+00\n",
      "  -3.72790933e-01 -2.31190447e+00 -1.66272722e-01  4.08603461e+00\n",
      "   2.37964689e-01 -1.51788398e+00 -1.51089814e-01]\n",
      " [-8.31998564e-01  2.66495280e+00 -2.65290695e+00  2.80923256e+00\n",
      "   1.30578205e+00 -1.47897178e+00  8.48883352e-01  8.59651494e-01\n",
      "  -4.15878509e-01 -4.72568420e-01  1.37115142e+00  1.69422348e+00\n",
      "   9.40594861e-01 -2.72811353e-01  2.81604161e-01 -1.35179862e-02\n",
      "  -3.20355772e+00 -1.82357575e+00  2.21671812e+00 -7.06987124e-01\n",
      "  -1.44914206e-01 -4.10971805e-02 -1.51075229e+00 -1.26196545e+00\n",
      "  -2.10835040e-01  4.72888928e+00  1.92557645e+00]] \n",
      "\n",
      " [[ 1.71082183e+00 -1.26855983e+00 -1.18248491e+00 -1.92021873e+00\n",
      "  -5.57061181e-02  1.57164293e+00 -1.13342111e+00  7.72963583e-01\n",
      "  -7.99841749e-01  6.58074736e+00 -1.61578346e-01 -2.00927069e+00\n",
      "  -2.90845236e+00 -7.97584567e-01 -1.90128628e+00 -1.12958310e-01\n",
      "  -4.45327225e-01 -4.43660292e+00 -1.19527894e+00 -3.52318653e-01\n",
      "  -1.65545144e+00 -2.43959633e+00 -1.99720558e+00  3.83802230e+00\n",
      "   1.76860271e+00  3.15916781e+00]\n",
      " [ 1.41636701e+00  3.94951434e-01  1.02442326e+00 -3.61079649e+00\n",
      "  -9.58589227e-01  1.21637050e+00 -2.79648768e+00  1.66278477e+00\n",
      "  -3.44547050e+00 -7.22820222e-01 -5.81761354e+00 -6.36359893e+00\n",
      "   1.41340418e+00 -6.46783865e-02  1.35936701e+00 -1.01355788e+00\n",
      "   1.53685338e+00 -2.96987616e-01  2.35729071e-01 -1.30849589e+00\n",
      "  -5.40633582e+00 -2.33199345e+00 -2.50386519e-01  1.24862035e+00\n",
      "  -2.96132799e+00 -3.82609998e-02]\n",
      " [ 1.18161265e+00 -1.59231004e+00 -1.17012858e+00  1.70652362e+00\n",
      "  -5.42338919e+00  1.33214051e+00  2.35268553e+00 -4.20291605e+00\n",
      "  -4.88079014e+00 -3.50201708e+00 -3.21285218e+00 -2.29263138e+00\n",
      "   2.04687624e+00 -2.71273698e+00  2.58683362e+00  1.75760805e+00\n",
      "  -4.43260832e+00 -3.26688341e+00 -1.83837978e+00  1.84827450e+00\n",
      "  -2.00617517e+00  1.45703875e+00  9.41477814e-01 -2.89105253e+00\n",
      "  -4.45671232e-01  2.73658514e+00]\n",
      " [ 1.92211439e-01 -4.92439748e+00 -4.18048149e+00  2.48612426e+00\n",
      "   5.33593871e-02 -3.89703308e+00 -3.06206156e+00  2.41964872e-01\n",
      "   1.47337292e+00 -5.67117177e+00  1.80609454e-01  2.76706682e+00\n",
      "  -4.20764878e-01  1.87104926e+00 -4.45673759e+00 -1.96319795e-01\n",
      "  -4.01645147e+00  1.91465180e+00 -2.41430672e+00 -3.30683632e+00\n",
      "  -2.03835672e+00  1.23783250e+00 -6.57285117e-01  5.53127984e-01\n",
      "   7.52911381e-01  1.85839121e+00]\n",
      " [-2.66840345e+00 -3.69290118e+00  3.22772368e+00  2.33813231e+00\n",
      "   2.92702185e+00  4.99130491e+00 -3.46114346e+00  4.28798207e+00\n",
      "   9.53963871e-01  1.48592013e+00  1.48761108e+00 -3.12184903e+00\n",
      "   2.12700783e+00  1.26577501e+00 -3.39143644e+00 -4.98190251e+00\n",
      "  -3.83599733e+00 -2.12427052e+00  3.23173541e+00 -2.48843913e+00\n",
      "  -8.49495114e-01 -7.33133100e-01 -2.85967781e+00 -1.81623770e+00\n",
      "  -2.76692956e+00 -9.72666825e-01]\n",
      " [-8.35131323e-01 -1.46765949e+00 -2.77767013e+00  5.76182072e-01\n",
      "  -5.84520466e-01 -4.24218936e-01 -1.16678816e+00 -1.93795194e+00\n",
      "  -4.98965351e+00 -1.13484928e+00 -2.16334952e+00  2.85950814e-01\n",
      "  -1.68049834e+00 -1.87605874e+00 -1.38987674e+00  6.70130281e-01\n",
      "  -7.01791299e-01 -1.11054076e+00 -8.91788859e-01 -9.20668227e-01\n",
      "  -2.32491470e+00 -5.04235293e-01 -1.70693531e+00 -7.51945064e-01\n",
      "  -7.19336608e-01 -1.41157909e+00]\n",
      " [ 2.84572604e-01 -3.16219300e-01 -2.48199271e-01 -1.32965083e+00\n",
      "   1.12822514e+00  7.70042876e-02  1.00989767e+00 -4.39456796e-02\n",
      "   5.49508110e-01  3.46786806e+00 -4.30034692e-01  2.89457159e-01\n",
      "  -1.66044647e-01  1.87709610e+00  1.11575847e+00  2.53141180e-01\n",
      "   9.75608105e-01  4.92309742e-01 -8.84680123e-01  4.33459139e-01\n",
      "   2.31295963e+00 -2.35598429e+00  7.86846933e-01  6.53011105e-01\n",
      "   1.16060607e+00  7.88652887e-02]\n",
      " [-2.36477732e+00 -1.49086616e+00 -1.17381281e+00 -1.74151072e+00\n",
      "  -5.04365517e-01  3.15861121e+00 -7.99606420e-01 -2.04023813e+00\n",
      "   3.36291047e+00 -5.28739798e-01  1.29128023e+00 -9.98739448e-01\n",
      "   3.08424858e-01 -1.80075787e+00 -7.49557047e-01 -2.92453235e+00\n",
      "  -3.07311612e+00  2.75694573e+00 -1.07595093e+00  2.63333247e+00\n",
      "  -2.68611469e+00 -1.95097184e+00 -3.74597228e+00  3.82920515e+00\n",
      "   2.53712224e-01 -1.74376446e+00]\n",
      " [-1.84048604e+00  1.10981386e+00 -1.19617417e+00 -5.11148912e+00\n",
      "  -6.34376608e-01 -1.29894797e+00  3.78804975e-03 -3.04416964e+00\n",
      "  -2.04285185e+00 -1.58256380e+00 -1.86928391e+00  2.74290952e-02\n",
      "  -8.30907428e+00 -1.36470751e+00 -1.45413209e+00 -3.11514247e+00\n",
      "   6.94202940e-01 -1.70004676e+00 -4.20712653e+00 -2.49036607e+00\n",
      "  -3.27057517e-01 -9.67572268e-01  2.47268619e-01 -2.10007530e-01\n",
      "  -1.63421121e+00 -7.98598026e-01]\n",
      " [-4.63334554e+00 -4.10586089e+00  7.47882946e-01  1.25119680e+00\n",
      "   2.12275222e+00 -1.18756099e+00  1.15194531e+00 -4.11551838e+00\n",
      "  -2.73092378e+00 -7.71190932e-01 -1.48747855e-01  3.22603083e-01\n",
      "   4.83584569e-01 -3.45760155e-01 -1.30400804e+00 -3.56919443e+00\n",
      "   2.92836027e+00 -5.32246543e+00 -3.76741941e+00  1.44768603e+00\n",
      "   1.79518407e+00  4.62110131e-02 -2.91009284e+00 -3.44843033e+00\n",
      "   3.00058358e+00 -3.24878416e+00]\n",
      " [-9.69728511e-02 -3.24087501e+00  7.30704305e-01 -2.94341464e+00\n",
      "   2.23497882e+00  8.25232813e-01  1.70775285e+00  1.84903980e+00\n",
      "  -3.73395528e+00 -3.13227221e+00  9.73917197e-01 -2.63544515e+00\n",
      "  -2.37199977e+00 -3.52295258e+00 -5.62587015e+00  1.58998332e+00\n",
      "   1.93617031e+00  6.25024156e-01  1.37607090e+00 -9.52756026e-01\n",
      "  -3.17823674e+00 -3.64690274e+00  2.58665389e+00  9.38722937e-01\n",
      "   2.17488357e+00 -3.70117123e+00]\n",
      " [-9.34498676e-01 -1.61199513e+00 -1.90814135e+00 -9.50168015e-01\n",
      "  -3.29383022e+00 -2.27793812e+00  1.00086987e+00 -3.43075501e+00\n",
      "  -1.12145784e+00 -1.99055001e+00 -9.51429255e-01 -7.35851714e-01\n",
      "  -3.45104976e+00 -1.97596529e+00 -1.53185854e+00 -8.10543521e-01\n",
      "  -1.40234360e+00 -6.27512985e-01 -7.64706300e-01 -6.28926307e+00\n",
      "  -1.18495005e+00 -1.70976330e+00 -1.86513243e+00 -5.68904944e-01\n",
      "  -5.80854008e+00 -1.22693982e+00]\n",
      " [-1.13448117e+00 -5.59912537e-01 -2.43171015e+00 -1.36468671e+00\n",
      "  -7.52891518e-01 -1.57326302e+00 -2.07449256e+00 -1.51287445e+00\n",
      "   6.25891728e-01 -2.18704559e+00 -1.81473974e+00 -2.88027379e-01\n",
      "  -3.54796786e+00 -2.48594456e+00 -2.06329321e+00 -1.21872881e+00\n",
      "   4.83517032e-02 -1.82440483e+00 -6.91228701e-01 -1.44802607e+00\n",
      "   6.87362874e-01 -2.07942114e+00 -3.14382435e+00 -2.61946652e+00\n",
      "  -3.86903505e+00 -3.34803163e+00]\n",
      " [-1.41977413e+00 -3.72730187e+00  3.39193235e+00 -2.52826363e+00\n",
      "  -2.60086828e+00 -2.02067516e+00  3.76982712e+00 -9.22820627e-01\n",
      "   2.27311046e+00 -2.06542873e+00 -2.08375790e+00  3.58396734e+00\n",
      "  -1.40307184e+00 -2.05800093e+00  1.82428404e+00 -1.24917143e-01\n",
      "  -2.04342442e+00 -1.86112978e+00  2.11028849e+00  2.79051654e+00\n",
      "  -2.07683821e+00 -1.02361374e+00 -1.01656024e+00 -9.38435627e-01\n",
      "  -1.76561944e+00 -1.01027255e+00]\n",
      " [-4.33965756e+00  3.79922205e+00 -3.81690982e+00 -3.61096427e+00\n",
      "   3.50895931e+00 -9.02425316e-01 -2.24770361e+00  2.47927328e+00\n",
      "  -1.77233951e+00 -2.96494621e+00  1.11536923e-01  1.08577839e+00\n",
      "   2.49305969e+00  2.97644725e+00 -2.22441231e+00  6.58410692e-02\n",
      "  -2.98264496e+00  1.82619797e+00 -3.46280353e+00  1.35075009e+00\n",
      "  -2.90999431e+00 -1.62237062e+00  2.10218328e+00  6.67836784e-01\n",
      "  -2.35509500e+00 -2.17394304e+00]\n",
      " [-4.50200668e+00  2.21958603e+00  4.30868845e-01  1.27721307e+00\n",
      "   1.80313576e+00  9.26624971e-01 -5.47248539e+00  3.74187716e-01\n",
      "   4.99638468e-01  1.22441360e+00  8.54592727e-01 -2.88767970e+00\n",
      "  -5.03909037e+00 -4.32553477e+00 -3.90489889e+00  1.84028208e+00\n",
      "   1.29696872e+00  8.22694324e-01 -2.00114517e+00  5.71216703e-01\n",
      "  -5.16076508e+00  1.82918488e+00 -3.81984853e+00 -8.89579114e-02\n",
      "  -1.50018302e+00 -1.31400594e+00]\n",
      " [-2.46977832e-01 -1.88866059e+00 -1.15813574e+00 -1.87243455e+00\n",
      "  -2.69063689e+00  2.32123781e+00  1.93187692e+00 -2.05438227e+00\n",
      "   4.58488274e-01  2.02850801e+00  2.85607495e+00 -4.46429909e+00\n",
      "  -7.19708592e-01  3.07399184e+00 -2.42589827e+00 -3.06971083e+00\n",
      "  -1.97177833e+00 -3.31900000e+00  1.07882143e+00  1.76409225e+00\n",
      "  -1.38712014e+00  3.29880885e+00  1.35892446e+00 -7.03671497e-01\n",
      "  -1.74178797e-01 -1.61362711e+00]\n",
      " [ 1.99526517e+00  1.50179233e+00 -8.20870603e-01 -1.29751357e+00\n",
      "  -3.17140726e+00  8.94132993e-01 -4.13598503e+00  3.43993568e+00\n",
      "   8.11670785e-02  1.07563755e+00  2.54976764e+00 -1.56320012e+00\n",
      "   2.42120375e+00  3.56327685e-01  1.25784025e+00  3.09430337e+00\n",
      "  -3.93647799e+00 -4.30110539e+00 -2.90381469e+00  3.21088192e+00\n",
      "   2.29064037e+00 -3.24592878e+00 -3.74684622e+00 -3.85253891e+00\n",
      "  -1.93290139e+00 -3.78365157e+00]\n",
      " [ 1.48953898e+00 -4.01032876e+00  2.04603743e+00 -1.72984145e-01\n",
      "  -7.10296160e+00 -5.02059087e+00 -1.36938947e+00  2.06986213e+00\n",
      "  -3.37698834e+00  1.00546292e+00  1.39049427e-02  9.31181193e-01\n",
      "  -3.89908767e-01  1.40977278e+00  4.03527946e-01 -1.23791670e+00\n",
      "   1.88269162e+00  2.41300601e+00 -4.59756956e+00 -6.46053374e-01\n",
      "   1.14952936e+00 -3.22152268e-01  2.30716162e+00 -5.60883228e+00\n",
      "   9.24454322e-01 -4.06386619e+00]\n",
      " [-4.38057387e+00  1.52275089e+00 -2.96120957e+00  1.22546771e+00\n",
      "  -3.63883953e+00 -3.86746344e+00 -2.52944236e+00  1.41910230e+00\n",
      "   9.48632481e-01 -4.42139493e-02  1.42066964e+00 -1.53301322e+00\n",
      "   2.53442279e+00 -6.46381392e+00 -4.65663184e+00 -3.59331270e+00\n",
      "  -2.55248996e+00 -2.55356684e+00  1.58436463e+00 -4.03745716e+00\n",
      "   2.87521480e+00 -4.58018619e+00  2.19391164e+00  3.84380102e-01\n",
      "   1.81554627e+00 -1.07183837e-01]\n",
      " [ 1.95892235e-01  1.42878042e+00 -5.50523282e+00 -8.37538995e-02\n",
      "  -2.60486155e+00 -4.07407553e+00  1.74523980e+00 -1.08460606e+00\n",
      "   3.52118321e-01 -1.68594664e+00 -6.47880484e+00 -5.52524091e+00\n",
      "  -2.71120798e-03  7.63482646e-01 -4.94552447e-01 -5.37565589e+00\n",
      "   5.98183581e-01 -2.54339965e+00  5.32261246e-01  7.02803737e-01\n",
      "   2.69906441e-01 -9.56577608e-01  7.25222163e-03 -1.14073602e-01\n",
      "  -9.56129625e-01  6.42635514e-01]\n",
      " [ 3.78664549e+00 -3.07970320e+00 -7.70996711e-01 -1.56150289e+00\n",
      "  -3.90166153e+00  1.13734015e+00 -4.69901436e-01 -2.74329311e+00\n",
      "   2.35756725e+00 -1.33531798e+00 -2.19474446e+00 -8.95571192e-01\n",
      "  -2.09787583e+00  3.14806809e+00 -2.96911927e+00  2.50548970e+00\n",
      "  -2.89764510e+00  1.52372467e+00 -1.69943637e+00  1.94165718e-01\n",
      "  -2.20157087e+00 -7.26259580e-01 -1.64471857e+00 -4.76196722e+00\n",
      "   1.57401381e+00  1.31272745e+00]\n",
      " [-2.41184633e+00  8.08923465e-01 -1.18237777e+00 -8.24907946e-01\n",
      "  -1.13957646e+00 -2.03987453e+00 -3.65575122e+00 -1.84941011e-01\n",
      "  -4.27191115e-01 -1.90093791e+00 -5.22193016e-01 -1.22944784e+00\n",
      "  -1.01401252e+00 -1.80763539e+00  2.96403404e+00  3.63043122e+00\n",
      "  -6.57918098e-02 -2.48937551e+00  3.58672951e+00 -2.32913661e+00\n",
      "   3.02342690e+00  4.56824679e+00 -3.84509933e+00 -6.54314489e-01\n",
      "   2.94206784e+00 -2.56409623e+00]\n",
      " [-4.81771506e+00  1.64779233e+00  8.96891264e-01 -4.22985983e+00\n",
      "   1.44495514e+00 -2.72231764e-01  9.99346095e-01 -5.70090467e+00\n",
      "  -1.04958576e+00 -5.99887822e-01 -4.09652688e-01  1.87104073e+00\n",
      "   1.82521491e+00  1.50874750e+00  1.74802121e+00 -2.01675043e+00\n",
      "  -5.70786673e+00 -2.38867075e+00  8.36404700e-01 -4.43625409e+00\n",
      "   1.46218343e+00 -2.57108812e-01 -3.70498487e+00 -2.22788496e+00\n",
      "  -2.51811406e+00  3.30711353e+00]\n",
      " [ 1.69629620e-01 -2.05723014e+00 -2.52973780e-01 -2.38331633e+00\n",
      "  -1.08076008e+00 -1.13305405e+00 -1.36098740e+00 -2.15965739e+00\n",
      "  -5.92401970e-02  3.16690311e-01  4.65571089e+00  1.65483701e-01\n",
      "   4.07049330e+00 -3.03327893e+00  7.83297092e-01 -2.15257569e-01\n",
      "  -1.09565569e+00 -1.95446224e+00  4.28807220e-01  6.11150334e-01\n",
      "  -1.42141478e+00  4.58641852e+00  6.23157903e+00  1.88697377e+00\n",
      "  -4.90179498e-01 -1.19251507e+00]\n",
      " [ 1.60880580e+00 -1.47080232e+00 -2.42477647e-01  1.74793904e+00\n",
      "   2.06374516e+00 -6.04315052e+00 -3.37596240e+00 -2.06897875e+00\n",
      "   1.92172461e+00  2.29169312e+00 -2.23688091e+00  1.65131926e+00\n",
      "  -1.22855840e+00 -3.19215873e+00  5.40095965e+00 -5.68566365e+00\n",
      "   7.46991398e-01  1.45806275e+00 -3.92650630e-01 -2.89102344e-01\n",
      "  -5.95115591e+00 -3.26994918e+00 -8.42384062e-01 -4.34204377e+00\n",
      "  -1.64324434e+00  4.45796708e-01]\n",
      " [-2.48821787e+00 -2.04606248e+00  6.40809901e+00 -2.56112490e-01\n",
      "  -1.78455319e+00 -2.93083626e+00 -5.76217517e-01 -3.02804255e+00\n",
      "  -3.45690603e-01 -9.53378068e-01 -1.96838994e-01 -6.60665472e-01\n",
      "   8.66406492e-01 -1.22008166e+00 -2.00141852e+00  2.25562672e+00\n",
      "  -2.72571705e+00  3.03441762e+00 -4.03922133e-01 -1.46786926e-01\n",
      "  -6.05029927e-01 -1.38213943e+00 -2.35845502e+00  1.98541772e+00\n",
      "   3.24294531e+00  3.17753810e+00]]\n"
     ]
    }
   ],
   "source": [
    "import json\n",
    "import numpy as np\n",
    "\n",
    "STORAGE_FILE = \"weights.json\"\n",
    "\n",
    "def save_weights(w1, w2):\n",
    "    data = {\n",
    "        \"w1\": w1.tolist(),\n",
    "        \"w2\": w2.tolist()\n",
    "    }\n",
    "    with open(STORAGE_FILE, \"w\") as f:\n",
    "        json.dump(data, f)\n",
    "\n",
    "def load_weights():\n",
    "    try:\n",
    "        with open(STORAGE_FILE, \"r\") as f:\n",
    "            data = json.load(f)\n",
    "        w1 = np.array(data[\"w1\"])\n",
    "        w2 = np.array(data[\"w2\"])\n",
    "        return w1, w2\n",
    "    except FileNotFoundError:\n",
    "        print(\"Weights file not found.\")\n",
    "        return None, None\n",
    "\n",
    "w1, w2 = load_weights()\n",
    "\n",
    "if w1.size == 0 or w2 is None:\n",
    "    w1 = generate_wt(inputl, hidden) # weight for input and hidden nodes\n",
    "    w2 = generate_wt(hidden, l) # Weight for hidden nodes and output node\n",
    "print(w1, \"\\n\\n\", w2)\n",
    "    "
   ]
  },
  {
   "cell_type": "code",
   "execution_count": 52,
   "id": "1525f6ac-7edf-4ffc-afc4-d17570c01334",
   "metadata": {},
   "outputs": [
    {
     "name": "stdout",
     "output_type": "stream",
     "text": [
      "epochs: 1 === acc: 99.9999993963022  and loss:  6.036978077674699e-09\n",
      "epochs: 2 === acc: 99.99999939636531  and loss:  6.036346899266838e-09\n",
      "epochs: 3 === acc: 99.99999939642842  and loss:  6.0357158186793486e-09\n",
      "epochs: 4 === acc: 99.99999939649152  and loss:  6.035084835890081e-09\n",
      "epochs: 5 === acc: 99.9999993965546  and loss:  6.034453950881799e-09\n",
      "epochs: 6 === acc: 99.99999939661768  and loss:  6.033823163634027e-09\n",
      "epochs: 7 === acc: 99.99999939668075  and loss:  6.033192474126305e-09\n",
      "epochs: 8 === acc: 99.99999939674382  and loss:  6.032561882337991e-09\n",
      "epochs: 9 === acc: 99.99999939680686  and loss:  6.031931388249794e-09\n",
      "epochs: 10 === acc: 99.9999993968699  and loss:  6.031300991840076e-09\n"
     ]
    }
   ],
   "source": [
    "\"\"\"The arguments of train function are data set list x, \n",
    "correct labels y, weights w1, w2, learning rate = 0.1, \n",
    "no of epochs or iteration.The function will return the\n",
    "matrix of accuracy and loss and also the matrix of \n",
    "trained weights w1, w2\"\"\"\n",
    "\n",
    "acc, losss, w1, w2 = train(x, y, w1, w2, 0.1, 10)\n",
    "save_weights(w1, w2)\n"
   ]
  },
  {
   "cell_type": "code",
   "execution_count": 53,
   "id": "9d53c01d-3795-40f9-839d-42214d4d26c6",
   "metadata": {},
   "outputs": [],
   "source": [
    "%matplotlib inline"
   ]
  },
  {
   "cell_type": "code",
   "execution_count": 54,
   "id": "d8096297-3f17-482b-bd9e-2d98e746e228",
   "metadata": {},
   "outputs": [
    {
     "data": {
      "image/png": "[encoded data removed]",
      "text/plain": [
       "<Figure size 640x480 with 1 Axes>"
      ]
     },
     "metadata": {},
     "output_type": "display_data"
    },
    {
     "data": {
      "image/png": "[encoded data removed]",
      "text/plain": [
       "<Figure size 640x480 with 1 Axes>"
      ]
     },
     "metadata": {},
     "output_type": "display_data"
    }
   ],
   "source": [
    "import matplotlib.pyplot as plt1\n",
    "\n",
    "# plotting accuracy\n",
    "plt1.plot(acc)\n",
    "plt1.ylabel('Accuracy')\n",
    "plt1.xlabel(\"Epochs:\")\n",
    "plt1.show()\n",
    "\n",
    "# plotting Loss\n",
    "plt1.plot(losss)\n",
    "plt1.ylabel('Loss')\n",
    "plt1.xlabel(\"Epochs:\")\n",
    "plt1.show()\n"
   ]
  },
  {
   "cell_type": "code",
   "execution_count": 55,
   "id": "483aa1b5-95b3-40cc-ad81-b1819859e997",
   "metadata": {},
   "outputs": [
    {
     "name": "stdout",
     "output_type": "stream",
     "text": [
      "[[-5.92391679e-01 -2.13067812e+00  9.21745969e-01  2.96270931e+00\n",
      "  -1.19817408e+00  1.68227990e+00 -5.39662966e-01  1.78743687e-01\n",
      "   9.80635724e-01 -2.03961219e-01 -2.50507190e+00  7.39047492e-01\n",
      "   1.71320057e+00 -1.88603777e+00  2.80974367e+00  1.35839950e-01\n",
      "  -1.48786433e+00  7.93069831e-01  8.42505997e-01  6.68471354e-01\n",
      "   1.43213556e+00 -3.36353951e-01  3.16827551e-01  5.79073206e-01\n",
      "   8.81299136e-01 -3.16332945e+00 -8.96638187e-01]\n",
      " [ 7.92965269e-01  1.30267844e+00  3.41465353e+00 -2.07071116e+00\n",
      "   1.20147950e+00 -2.00494331e-02 -1.33434880e+00  2.00333402e+00\n",
      "  -9.08362957e-01  1.34107496e-01 -1.80909319e-01 -4.82141821e-01\n",
      "   1.86991937e-01 -1.47646090e+00 -1.82720628e+00  1.15654463e+00\n",
      "  -4.42202406e-01  8.18492651e-01 -8.10614245e-01 -1.39302624e+00\n",
      "   1.92659750e-01  1.03405964e+00 -1.04494409e+00 -6.50993765e-01\n",
      "  -2.46419566e+00  7.13156562e-01 -2.17967751e-01]\n",
      " [-1.36274667e+00  1.85449150e+00  1.92622321e+00  2.88649004e-01\n",
      "  -7.03125138e-01  3.51787459e-01 -1.57058633e+00 -6.50775624e-01\n",
      "  -1.18616667e-01 -1.11380818e+00 -1.36884670e+00 -3.81154708e-01\n",
      "   3.28277240e-01  4.84531422e-01 -4.15168385e-02  1.28388322e+00\n",
      "  -1.09930387e+00 -5.26392433e-01  3.46680767e-01 -8.34325132e-01\n",
      "   6.17783500e-01  2.33956200e+00  1.14435657e+00  3.13061700e-01\n",
      "  -1.22546125e+00  1.35064161e+00  2.12074490e+00]\n",
      " [ 1.74847863e-01  1.66010560e+00  8.22517528e-01 -2.42128634e+00\n",
      "  -6.36064238e-01  5.84889450e-01 -2.23376747e+00 -1.50094467e+00\n",
      "   2.05477562e+00 -6.97576335e-01  1.82381984e+00  7.88123182e-02\n",
      "   2.07759920e+00  1.73051758e+00  7.59256937e-01 -5.24370168e-02\n",
      "   1.65203434e+00 -8.81170047e-02 -1.45946100e+00 -2.23726344e+00\n",
      "  -5.51955921e-03  1.66450283e+00 -6.14180668e-01  1.49624252e+00\n",
      "  -4.53321804e-01  1.38922360e+00  1.55856088e-01]\n",
      " [ 1.86883088e+00  8.98718979e-01  1.00970750e+00 -1.06814144e+00\n",
      "   4.43806244e+00  1.20635587e+00  9.43005215e-01  3.37375400e+00\n",
      "  -1.01961142e+00  2.60193829e+00  1.50680731e+00 -1.54023701e+00\n",
      "  -7.80326153e-01 -1.18195785e+00 -1.12670513e+00  8.42978526e-01\n",
      "   4.67745620e+00 -1.01813387e+00 -1.40125446e+00  7.40051185e-01\n",
      "  -1.58487151e-01  5.43224013e-01 -1.94257424e+00  2.17256042e+00\n",
      "   4.37253192e-01 -1.86273686e+00 -1.54215995e-01]\n",
      " [-1.62999227e+00 -6.24877484e-01  4.13473251e-01  2.30204064e-01\n",
      "  -3.19008212e-01  2.19086809e+00 -1.19685529e+00 -5.61389663e-01\n",
      "  -5.99623896e-01  4.15411511e-01  1.79577134e+00  3.51792100e-01\n",
      "   1.49908290e+00  2.31978581e+00 -1.36620028e+00 -3.65980313e+00\n",
      "   7.01246806e-03 -1.38927701e-01  1.33311799e+00 -1.45916902e+00\n",
      "  -8.54045432e-01 -1.30602068e+00  3.37082583e+00  5.09104793e-01\n",
      "   4.47378487e-01 -1.54737871e+00 -2.58746858e-01]\n",
      " [-3.33668765e-01 -2.72261188e-01  9.29170536e-01  6.11240959e-01\n",
      "  -5.15538002e-03  2.27916726e-01  1.03119369e+00  2.24776477e-01\n",
      "  -3.19594747e-01  2.71785739e+00 -2.31989759e+00 -7.76428266e-01\n",
      "  -3.91462199e-01 -2.32575367e-01  9.63408609e-01 -8.18609721e-01\n",
      "   4.38514668e-01 -7.52260218e-02 -6.89481583e-01  3.61609019e-01\n",
      "   1.54045772e+00  3.36575023e-01  6.46486819e-01  3.62150411e+00\n",
      "  -1.00176823e+00 -5.21003367e-01 -4.13192199e-01]\n",
      " [ 1.28103053e+00 -8.11913078e-01  7.05250665e-02 -1.11230405e+00\n",
      "  -5.42171468e-01 -1.39689308e+00  6.32707238e-01  8.15112803e-01\n",
      "  -1.49760757e-01 -8.80037159e-01 -2.41403498e-01 -3.23332297e-01\n",
      "  -8.38086327e-01  5.73158834e-01  5.88146520e-01  3.64320363e-01\n",
      "  -8.38842457e-01  2.38489521e+00 -4.94361441e-02 -1.46789756e+00\n",
      "   5.64161918e-02  6.26412608e-01 -7.43581244e-01 -3.47571563e+00\n",
      "   4.20409497e-01 -8.53182197e-01 -3.14790548e+00]\n",
      " [-7.47611717e-01 -9.99133651e-01  3.00735708e+00  1.42659177e+00\n",
      "   2.31088678e+00 -5.42702298e-01 -1.28969431e+00  2.05282412e+00\n",
      "  -3.60072144e+00  2.02658077e+00  2.98312438e-01  6.33038079e-01\n",
      "   2.05353926e-02 -1.85388684e+00 -1.44386046e+00 -5.50416746e-02\n",
      "  -1.69895113e+00 -3.49577739e-01  1.29916577e+00  2.24743386e+00\n",
      "   1.88728547e+00 -1.44272957e+00 -1.63976752e+00 -1.35717438e-01\n",
      "   3.13011020e+00 -2.21059536e-01  1.31264883e+00]\n",
      " [ 1.43216821e+00  2.18569319e+00 -1.35847885e-01  1.03597454e+00\n",
      "  -3.19546224e+00 -9.70910112e-01  1.13927124e+00 -8.08781927e-01\n",
      "   1.75535624e+00 -1.11479615e+00 -2.40754632e+00 -9.40211484e-01\n",
      "   2.38091229e-01 -3.35139109e+00 -9.76832063e-01  7.53757531e-01\n",
      "  -1.13749786e+00  1.33398749e+00  2.17186005e+00 -4.86408573e-01\n",
      "  -2.06029076e-01  2.48985256e+00  1.90881481e+00  2.66229012e-02\n",
      "   6.40283077e-02 -5.08458847e-01  3.62010658e+00]\n",
      " [-3.24993118e+00 -9.44311902e-01  5.95167111e-01  1.19712741e+00\n",
      "  -2.38783806e+00  8.15202609e-01 -1.56206044e-01 -1.94652012e+00\n",
      "   1.77072641e+00  2.60943548e+00  1.44844352e+00  3.14858587e+00\n",
      "   2.06193580e-01 -8.82284466e-01  8.62946383e-01 -1.22135599e+00\n",
      "  -1.92090628e+00 -1.11382443e-01  1.20306820e+00 -3.91968751e-03\n",
      "   3.43580167e-01  4.62299350e-01  5.40615544e-01 -7.64347924e-02\n",
      "   6.63481446e-01 -1.79387788e+00  6.93834358e-01]\n",
      " [ 9.51702296e-01  9.72123831e-01 -2.30216805e+00 -3.40539126e-01\n",
      "   2.41546451e-01  7.88362571e-02  7.46527589e-02  8.93106452e-01\n",
      "  -1.15670513e+00 -4.87347865e-01  6.39410194e-01  2.50079678e-01\n",
      "   2.25919132e+00 -3.72138290e+00  9.60288902e-01  3.99022988e+00\n",
      "  -4.30604429e-01 -1.85429335e-01 -2.72439083e+00  9.81918791e-01\n",
      "   4.90616268e-01 -5.87905565e-01  1.09116894e+00 -6.40296478e-01\n",
      "  -2.82281114e+00 -9.93280890e-01 -9.73417002e-01]\n",
      " [-2.27976096e+00 -1.69717822e-01 -2.65272982e+00 -9.02693883e-01\n",
      "   1.12048298e+00 -1.84685864e+00  3.54475825e-01  1.89045314e+00\n",
      "  -2.16393570e-01 -1.36631202e+00  5.18038910e-01  9.32447335e-01\n",
      "   6.39251631e-02  3.32814919e-01  3.34501347e+00  1.03432572e+00\n",
      "   1.11370055e+00  1.62699187e+00 -3.02697593e-02 -1.11488127e+00\n",
      "  -2.69128667e-01  8.80348909e-01 -3.92603379e-02 -5.92561842e-01\n",
      "  -1.33696509e+00  9.04821293e-01 -2.03968394e+00]\n",
      " [ 2.49058396e+00  3.13314755e-01  6.53005359e-01 -3.61859590e-01\n",
      "   1.40712529e+00  1.86667736e+00 -1.13599710e+00 -1.78092193e+00\n",
      "   2.26335863e-02 -1.40308749e+00  3.44177874e+00 -1.71829720e-02\n",
      "  -7.09075498e-02 -1.32024528e+00  1.19118606e+00 -7.36115475e-01\n",
      "  -2.09482133e+00 -2.11342952e+00 -1.44802342e+00  7.79159760e-01\n",
      "   1.05692525e-01 -9.67052183e-01  1.57085529e+00 -1.83853776e+00\n",
      "  -1.38975874e+00 -1.15792899e+00  1.34174618e+00]\n",
      " [-1.65207360e-01  1.87594057e-02 -1.26219589e-01  3.43911359e-01\n",
      "   2.96868074e+00  1.40022168e+00 -1.57934214e-01 -2.10967277e+00\n",
      "  -1.23459282e+00  1.40154841e-01 -2.09334380e+00  1.82017060e+00\n",
      "   4.97450210e-01 -1.55569319e+00 -1.27830083e+00 -4.72471229e-01\n",
      "   9.94792914e-02  1.68960225e+00  1.42123363e+00 -1.73836382e+00\n",
      "   4.71338175e-01 -5.70931205e-01  5.04069457e-01 -8.16876629e-01\n",
      "  -1.60072197e-01  2.50531317e+00 -4.32515564e+00]\n",
      " [ 2.02794044e+00 -4.47928775e-01  4.57417895e-02 -2.61771719e-01\n",
      "   9.10517416e-01  7.37232366e-01 -1.41439457e+00 -2.05769202e-01\n",
      "   1.68842129e+00  1.29525745e+00  1.08076119e+00  2.24188208e+00\n",
      "   1.79957113e+00 -7.64408768e-01  2.13182113e+00  4.14963735e+00\n",
      "   7.91057928e-01  1.77903475e+00  2.38047228e+00 -2.70842227e+00\n",
      "  -2.95917299e+00  4.98234338e-01 -1.60639789e+00  5.74374236e-01\n",
      "   4.12545704e-01  8.45669342e-01  1.11074229e+00]\n",
      " [ 2.37987661e+00  1.99688775e-01 -1.42941848e+00  2.14354062e-01\n",
      "  -1.43375289e+00  1.03862726e+00 -2.58082802e-01 -1.15088709e+00\n",
      "   6.13343374e-01  6.38565298e-01  2.02646563e-01 -7.61626397e-01\n",
      "  -6.81689229e-01 -6.57231380e-01 -2.24101697e+00  7.60304872e-01\n",
      "  -1.87755021e+00  1.35734230e+00  7.60456842e-01  7.50201900e-01\n",
      "  -1.22387112e+00 -1.66691503e+00  1.68560989e+00 -3.42526243e-01\n",
      "   6.49785082e-02 -1.10445893e+00  3.21430244e-01]\n",
      " [-4.42620341e-01 -1.95797864e+00 -3.35122526e-01  5.01891830e-01\n",
      "  -3.42232142e+00 -4.42415476e-01 -2.40338059e-01  1.14893452e+00\n",
      "   1.42278062e+00 -1.33647579e+00  2.51269591e+00 -5.81727080e-01\n",
      "  -3.03362082e-02 -5.63279956e-01  7.95936159e-03 -1.49820871e+00\n",
      "  -3.36308402e-01 -1.58391099e+00  6.82272501e-01  1.91823550e+00\n",
      "   3.08800879e+00  1.27065521e+00 -2.57620054e+00 -3.01452727e+00\n",
      "   8.28009851e-01  1.19526140e+00 -7.29494843e-01]\n",
      " [ 1.28265051e+00 -1.47983324e+00 -3.37565699e-01  9.64384132e-01\n",
      "  -3.31738732e-01 -9.71095612e-02  9.74254111e-01 -3.96168374e-01\n",
      "   1.81665487e+00  7.50168207e-01 -7.04367504e-02 -1.04147954e+00\n",
      "   1.07377048e+00  7.61469091e-01 -1.12087175e+00 -2.13883181e+00\n",
      "   1.89549624e+00 -7.23628331e-01 -5.82580968e-01 -5.03600833e+00\n",
      "   1.05498300e+00  3.78628023e+00 -1.86355960e+00  2.26107532e-01\n",
      "  -2.32817117e+00 -3.29036762e+00 -1.34473480e+00]\n",
      " [-1.02504790e+00  8.88187611e-04 -6.70425630e-01 -1.19156714e+00\n",
      "  -1.27703028e+00  1.54701174e+00  1.39306957e+00 -1.40492444e+00\n",
      "  -2.06019001e+00 -1.87130741e+00 -8.22204852e-01  5.50931410e-01\n",
      "  -2.70876783e-01 -2.60104018e-03 -1.28171620e+00  6.21736322e-01\n",
      "   5.46479921e-01  3.41022884e-01 -9.74711517e-01  2.52454256e+00\n",
      "   3.37399972e+00 -1.84112552e+00 -9.86925621e-02 -1.06256101e+00\n",
      "   9.38486935e-02 -3.07045211e-01 -4.62839130e+00]\n",
      " [ 6.21445991e-01  1.24867702e+00 -3.12845695e-01 -1.70702296e+00\n",
      "  -2.36580055e-01  1.49856818e+00  3.10313466e-01 -1.26300906e-01\n",
      "   3.83187813e-01  3.55754929e-01  1.79928273e+00  2.97009811e+00\n",
      "  -6.79651315e-01 -4.82505831e-01  1.20144074e+00 -2.75012590e-01\n",
      "   6.56284722e-01 -2.46402674e-02  1.60922244e+00  9.95396878e-01\n",
      "  -1.06836941e+00 -1.52504245e+00 -4.25149756e-01 -2.16792150e-01\n",
      "  -1.44798787e+00 -1.53933639e-01 -9.50605978e-01]\n",
      " [ 8.80568686e-01  1.14578240e+00  3.56360795e+00  1.45804481e+00\n",
      "  -2.02281243e+00  1.25620943e+00 -1.26707674e+00 -2.31271393e+00\n",
      "   2.73297150e+00 -1.39796913e+00  1.76424295e-01  2.30021823e+00\n",
      "  -1.75333506e-01 -1.95630441e-02  3.79563264e-01 -7.92574312e-01\n",
      "   1.86777871e+00 -2.38170283e+00 -1.62228271e+00 -9.56215495e-01\n",
      "   1.59127681e+00 -2.16444692e-01  1.83116761e+00  1.64489457e+00\n",
      "   1.40513139e+00 -9.73584457e-01  4.38440159e-01]\n",
      " [-5.08020592e-01 -4.52076597e-01 -1.09287599e+00  1.14056295e+00\n",
      "  -1.16202898e+00  7.24202427e-01  3.97885455e-01 -2.73920493e-01\n",
      "   1.01114943e+00  1.45660431e+00  1.11500117e+00 -9.88163019e-01\n",
      "   1.58177283e+00  1.74576622e+00 -7.34795153e-01  4.69315347e-01\n",
      "   2.33509500e+00  2.19167408e+00  2.57079502e+00  2.20166901e+00\n",
      "  -9.11783869e-01  2.13120265e+00  2.34830491e-01 -7.74342826e-01\n",
      "   4.88761162e-01  2.10464046e-01  1.80875664e+00]\n",
      " [-2.50508447e+00  1.92506653e-01 -2.16029348e+00  3.59462913e-01\n",
      "   1.25563981e+00  5.62793611e-01 -3.69508038e-01  2.18881994e+00\n",
      "   3.82477431e-01  1.52193675e+00  1.44841088e+00  8.83603251e-01\n",
      "   1.13825584e-03 -2.30868523e+00  9.16649215e-02  3.00724835e+00\n",
      "   1.33132299e+00 -4.09915663e+00 -2.36179490e-03  8.25527239e-01\n",
      "  -1.89785151e-01 -3.93011543e+00 -2.50507291e-01 -2.76904827e+00\n",
      "   7.51349614e-01  2.21497770e-01  3.24983935e-01]\n",
      " [-1.84940027e-01  2.17531912e+00  2.21879997e+00 -1.20649311e+00\n",
      "   2.93195977e-01  1.06225720e+00 -2.26450067e-01 -1.59870394e+00\n",
      "  -9.44230860e-01 -2.47127266e+00 -1.31334483e-01  3.04927785e-01\n",
      "   3.92995839e-01  3.27158181e-01  2.28867764e-01 -3.77168193e+00\n",
      "  -1.11411918e+00  1.13380319e+00  2.51661117e-01  2.50539096e+00\n",
      "   2.66280216e+00 -9.41546056e-01 -1.47821633e-01  1.09997793e-01\n",
      "   1.77347578e-01 -6.12255216e-01  2.58897395e-01]\n",
      " [ 1.58594326e+00  8.20795103e-02 -8.30443432e-01  3.07746678e+00\n",
      "  -1.24647725e-02 -1.47466798e+00 -1.63267196e+00  6.67976255e-01\n",
      "   1.42437750e-01 -2.05867536e+00 -2.26622271e+00  1.47081403e+00\n",
      "   6.27054323e-01 -7.80228040e-01  9.29029294e-01 -2.48109012e-01\n",
      "   1.06234093e+00  4.13260880e-01 -3.33311065e+00  1.95010251e+00\n",
      "  -9.35848516e-01  3.00417770e-01 -3.85986078e+00 -3.46050359e-01\n",
      "   5.24260297e-01  1.16604138e+00 -1.91240944e+00]\n",
      " [-2.02558083e-01 -1.56035263e+00 -3.30749428e+00 -1.16335944e+00\n",
      "   4.23147950e-01 -6.29772255e-01  1.58651507e+00 -2.51059532e+00\n",
      "   5.47678076e-01 -4.16994117e-02 -3.21564585e-01  7.07531241e-01\n",
      "  -2.89690212e+00  1.85167422e+00 -1.84155485e+00 -7.24133733e-01\n",
      "  -6.81670029e-01 -9.18115033e-01 -1.49721544e+00  2.19941011e+00\n",
      "  -8.77189880e-02 -2.76816985e+00 -5.58011494e-01  6.37805065e-01\n",
      "  -3.59660531e+00  2.19652098e+00 -1.88581080e+00]\n",
      " [-1.31691619e+00 -1.07518616e+00  3.71985707e-01 -3.15312527e-01\n",
      "  -7.10817838e-01  4.72081786e-01 -1.17362794e+00 -1.33626683e+00\n",
      "   1.64011936e-01  3.87544785e+00 -2.37407779e+00 -8.32850868e-01\n",
      "   6.35263545e-01  3.10176367e+00 -2.07898203e+00  6.62893838e-03\n",
      "  -7.43782202e-01 -1.61251810e+00  7.55590678e-01 -8.19023012e-01\n",
      "   1.21345270e+00 -5.91369139e-01  9.58896926e-01  5.08586115e-01\n",
      "  -1.68005158e+00  2.38900029e+00  2.81271553e-01]\n",
      " [-2.18292931e-01 -2.43040333e+00 -2.01175028e+00  1.06389123e+00\n",
      "   2.02012492e-01 -3.06247215e-01  1.06241081e+00 -6.30053350e-01\n",
      "   1.80752208e+00 -9.20427704e-01 -2.77803358e+00  1.92199310e+00\n",
      "   1.37798098e+00  3.25550250e-01 -1.34503621e+00  4.92583011e-01\n",
      "  -6.35669483e-01 -2.42960223e-01 -1.84654988e+00  1.22234395e+00\n",
      "  -3.72804119e-01 -2.31194580e+00 -1.66328598e-01  4.08609273e+00\n",
      "   2.37964046e-01 -1.51786387e+00 -1.51037647e-01]\n",
      " [-8.32006572e-01  2.66502119e+00 -2.65297117e+00  2.80935750e+00\n",
      "   1.30579788e+00 -1.47900369e+00  8.48867132e-01  8.59708679e-01\n",
      "  -4.15896580e-01 -4.72559964e-01  1.37115792e+00  1.69427559e+00\n",
      "   9.40594180e-01 -2.72838994e-01  2.81595425e-01 -1.35426238e-02\n",
      "  -3.20363149e+00 -1.82359314e+00  2.21676390e+00 -7.07016210e-01\n",
      "  -1.44924581e-01 -4.11454275e-02 -1.51078427e+00 -1.26199062e+00\n",
      "  -2.10814649e-01  4.72899580e+00  1.92558238e+00]] \n",
      " [[ 1.71097301e+00 -1.26870591e+00 -1.18256440e+00 -1.92030019e+00\n",
      "  -5.57622019e-02  1.57176571e+00 -1.13343320e+00  7.73057931e-01\n",
      "  -7.99901913e-01  6.58092765e+00 -1.61642529e-01 -2.00930431e+00\n",
      "  -2.90854325e+00 -7.97653039e-01 -1.90137190e+00 -1.12896948e-01\n",
      "  -4.45424948e-01 -4.43678041e+00 -1.19530497e+00 -3.52426074e-01\n",
      "  -1.65558323e+00 -2.43966223e+00 -1.99739334e+00  3.83816586e+00\n",
      "   1.76868759e+00  3.15926516e+00]\n",
      " [ 1.41633176e+00  3.94955153e-01  1.02440209e+00 -3.61099214e+00\n",
      "  -9.58571649e-01  1.21640846e+00 -2.79667405e+00  1.66277341e+00\n",
      "  -3.44558882e+00 -7.22810874e-01 -5.81785775e+00 -6.36376155e+00\n",
      "   1.41352070e+00 -6.46112879e-02  1.35944091e+00 -1.01359281e+00\n",
      "   1.53693849e+00 -2.96992658e-01  2.35779693e-01 -1.30855339e+00\n",
      "  -5.40658253e+00 -2.33202013e+00 -2.50358506e-01  1.24862534e+00\n",
      "  -2.96148054e+00 -3.82414741e-02]\n",
      " [ 1.18162846e+00 -1.59240459e+00 -1.17008254e+00  1.70666765e+00\n",
      "  -5.42360343e+00  1.33227269e+00  2.35276111e+00 -4.20313779e+00\n",
      "  -4.88095945e+00 -3.50214661e+00 -3.21300961e+00 -2.29276479e+00\n",
      "   2.04699120e+00 -2.71299255e+00  2.58703617e+00  1.75773172e+00\n",
      "  -4.43282713e+00 -3.26701755e+00 -1.83843222e+00  1.84833272e+00\n",
      "  -2.00626930e+00  1.45704419e+00  9.41532912e-01 -2.89120543e+00\n",
      "  -4.45710531e-01  2.73666563e+00]\n",
      " [ 1.92267424e-01 -4.92456328e+00 -4.18063102e+00  2.48616890e+00\n",
      "   5.34613375e-02 -3.89724406e+00 -3.06216281e+00  2.42051923e-01\n",
      "   1.47344175e+00 -5.67134944e+00  1.80600346e-01  2.76718885e+00\n",
      "  -4.20798902e-01  1.87116571e+00 -4.45690424e+00 -1.96318455e-01\n",
      "  -4.01669161e+00  1.91471277e+00 -2.41441203e+00 -3.30699055e+00\n",
      "  -2.03841718e+00  1.23792481e+00 -6.57267008e-01  5.53101802e-01\n",
      "   7.52942966e-01  1.85841339e+00]\n",
      " [-2.66844565e+00 -3.69306055e+00  3.22787706e+00  2.33824581e+00\n",
      "   2.92720806e+00  4.99142591e+00 -3.46127504e+00  4.28814544e+00\n",
      "   9.54006632e-01  1.48596057e+00  1.48765136e+00 -3.12204875e+00\n",
      "   2.12701700e+00  1.26583066e+00 -3.39154374e+00 -4.98205906e+00\n",
      "  -3.83618997e+00 -2.12435455e+00  3.23189828e+00 -2.48852972e+00\n",
      "  -8.49451835e-01 -7.33198505e-01 -2.85978957e+00 -1.81629424e+00\n",
      "  -2.76701000e+00 -9.72758197e-01]\n",
      " [-8.35189011e-01 -1.46769640e+00 -2.77776963e+00  5.76151759e-01\n",
      "  -5.84592080e-01 -4.24291678e-01 -1.16682077e+00 -1.93802954e+00\n",
      "  -4.98991053e+00 -1.13492975e+00 -2.16342430e+00  2.85923415e-01\n",
      "  -1.68060770e+00 -1.87613923e+00 -1.38997248e+00  6.70049360e-01\n",
      "  -7.01827618e-01 -1.11060620e+00 -8.91828363e-01 -9.20718797e-01\n",
      "  -2.32497913e+00 -5.04311004e-01 -1.70700487e+00 -7.52030252e-01\n",
      "  -7.19394892e-01 -1.41162968e+00]\n",
      " [ 2.84543814e-01 -3.16306736e-01 -2.48228496e-01 -1.32972925e+00\n",
      "   1.12820599e+00  7.69623637e-02  1.00988141e+00 -4.39487337e-02\n",
      "   5.49500450e-01  3.46800896e+00 -4.30104816e-01  2.89395064e-01\n",
      "  -1.66049766e-01  1.87726183e+00  1.11565469e+00  2.53132244e-01\n",
      "   9.75589659e-01  4.92299417e-01 -8.84695355e-01  4.33442802e-01\n",
      "   2.31317226e+00 -2.35600461e+00  7.86834577e-01  6.52985957e-01\n",
      "   1.16056562e+00  7.88507393e-02]\n",
      " [-2.36484135e+00 -1.49093747e+00 -1.17385973e+00 -1.74156248e+00\n",
      "  -5.04467642e-01  3.15878392e+00 -7.99674500e-01 -2.04032439e+00\n",
      "   3.36302723e+00 -5.28804265e-01  1.29139200e+00 -9.98813089e-01\n",
      "   3.08591909e-01 -1.80087464e+00 -7.49564774e-01 -2.92476512e+00\n",
      "  -3.07321861e+00  2.75714663e+00 -1.07601470e+00  2.63343345e+00\n",
      "  -2.68617595e+00 -1.95102755e+00 -3.74615062e+00  3.82941058e+00\n",
      "   2.53726646e-01 -1.74387558e+00]\n",
      " [-1.84054823e+00  1.10984035e+00 -1.19620528e+00 -5.11170911e+00\n",
      "  -6.34418274e-01 -1.29900515e+00  3.78870929e-03 -3.04439037e+00\n",
      "  -2.04284689e+00 -1.58263842e+00 -1.86933111e+00  2.74206433e-02\n",
      "  -8.30936768e+00 -1.36474415e+00 -1.45421020e+00 -3.11520683e+00\n",
      "   6.94235057e-01 -1.70011876e+00 -4.20741084e+00 -2.49044243e+00\n",
      "  -3.27090885e-01 -9.67566943e-01  2.47279296e-01 -2.10027518e-01\n",
      "  -1.63428025e+00 -7.98627279e-01]\n",
      " [-4.63350188e+00 -4.10601573e+00  7.47931573e-01  1.25123240e+00\n",
      "   2.12281041e+00 -1.18762112e+00  1.15199404e+00 -4.11567236e+00\n",
      "  -2.73104246e+00 -7.71194310e-01 -1.48717194e-01  3.22606762e-01\n",
      "   4.83626938e-01 -3.45813644e-01 -1.30407118e+00 -3.56931149e+00\n",
      "   2.92848844e+00 -5.32265506e+00 -3.76756739e+00  1.44771570e+00\n",
      "   1.79522196e+00  4.61926734e-02 -2.91025446e+00 -3.44856196e+00\n",
      "   3.00066879e+00 -3.24887068e+00]\n",
      " [-9.68816257e-02 -3.24106175e+00  7.30712168e-01 -2.94353967e+00\n",
      "   2.23505540e+00  8.25220088e-01  1.70786583e+00  1.84914945e+00\n",
      "  -3.73408697e+00 -3.13245013e+00  9.74014705e-01 -2.63559302e+00\n",
      "  -2.37219772e+00 -3.52314805e+00 -5.62608621e+00  1.58999536e+00\n",
      "   1.93625403e+00  6.25018669e-01  1.37614426e+00 -9.52815203e-01\n",
      "  -3.17832969e+00 -3.64710917e+00  2.58668824e+00  9.38712889e-01\n",
      "   2.17493788e+00 -3.70140350e+00]\n",
      " [-9.34547822e-01 -1.61203787e+00 -1.90823757e+00 -9.50197670e-01\n",
      "  -3.29390641e+00 -2.27796938e+00  1.00088301e+00 -3.43083325e+00\n",
      "  -1.12143898e+00 -1.99063568e+00 -9.51521783e-01 -7.35892994e-01\n",
      "  -3.45115825e+00 -1.97603876e+00 -1.53195216e+00 -8.10584178e-01\n",
      "  -1.40236193e+00 -6.27588131e-01 -7.64772592e-01 -6.28957091e+00\n",
      "  -1.18495399e+00 -1.70978808e+00 -1.86520163e+00 -5.68896761e-01\n",
      "  -5.80881983e+00 -1.22700681e+00]\n",
      " [-1.13454900e+00 -5.59944640e-01 -2.43180050e+00 -1.36473021e+00\n",
      "  -7.52965195e-01 -1.57334759e+00 -2.07453940e+00 -1.51293487e+00\n",
      "   6.25841796e-01 -2.18726062e+00 -1.81484840e+00 -2.88068695e-01\n",
      "  -3.54807158e+00 -2.48602625e+00 -2.06337924e+00 -1.21881016e+00\n",
      "   4.83177745e-02 -1.82448220e+00 -6.91294341e-01 -1.44810107e+00\n",
      "   6.87323409e-01 -2.07949536e+00 -3.14389588e+00 -2.61955348e+00\n",
      "  -3.86910006e+00 -3.34810696e+00]\n",
      " [-1.41987921e+00 -3.72741046e+00  3.39210729e+00 -2.52832141e+00\n",
      "  -2.60107840e+00 -2.02077823e+00  3.76987422e+00 -9.22866429e-01\n",
      "   2.27317352e+00 -2.06549803e+00 -2.08387518e+00  3.58414463e+00\n",
      "  -1.40312039e+00 -2.05809612e+00  1.82448438e+00 -1.24920704e-01\n",
      "  -2.04352330e+00 -1.86120596e+00  2.11036832e+00  2.79057487e+00\n",
      "  -2.07696603e+00 -1.02375706e+00 -1.01663782e+00 -9.38452593e-01\n",
      "  -1.76566890e+00 -1.01037700e+00]\n",
      " [-4.33987376e+00  3.79939861e+00 -3.81710183e+00 -3.61108545e+00\n",
      "   3.50907842e+00 -9.02454119e-01 -2.24781742e+00  2.47935576e+00\n",
      "  -1.77239649e+00 -2.96505065e+00  1.11535820e-01  1.08591703e+00\n",
      "   2.49316560e+00  2.97657264e+00 -2.22456259e+00  6.58902874e-02\n",
      "  -2.98277887e+00  1.82625869e+00 -3.46294911e+00  1.35086910e+00\n",
      "  -2.91018864e+00 -1.62240507e+00  2.10229076e+00  6.67872763e-01\n",
      "  -2.35522741e+00 -2.17405281e+00]\n",
      " [-4.50223115e+00  2.21969723e+00  4.30887823e-01  1.27730981e+00\n",
      "   1.80320573e+00  9.26612420e-01 -5.47268374e+00  3.74186127e-01\n",
      "   4.99665388e-01  1.22446597e+00  8.54623891e-01 -2.88782886e+00\n",
      "  -5.03933601e+00 -4.32568374e+00 -3.90510434e+00  1.84032051e+00\n",
      "   1.29705561e+00  8.22690431e-01 -2.00120826e+00  5.71302407e-01\n",
      "  -5.16100025e+00  1.82931167e+00 -3.82002835e+00 -8.89233252e-02\n",
      "  -1.50024753e+00 -1.31400899e+00]\n",
      " [-2.47108120e-01 -1.88877336e+00 -1.15818199e+00 -1.87252704e+00\n",
      "  -2.69082471e+00  2.32137598e+00  1.93201854e+00 -2.05452281e+00\n",
      "   4.58535680e-01  2.02861508e+00  2.85617191e+00 -4.46440201e+00\n",
      "  -7.19895010e-01  3.07407837e+00 -2.42600232e+00 -3.06987348e+00\n",
      "  -1.97187468e+00 -3.31907560e+00  1.07888179e+00  1.76408980e+00\n",
      "  -1.38723444e+00  3.29888976e+00  1.35904267e+00 -7.03651979e-01\n",
      "  -1.74150703e-01 -1.61374183e+00]\n",
      " [ 1.99542141e+00  1.50185422e+00 -8.20984267e-01 -1.29763177e+00\n",
      "  -3.17157512e+00  8.94105549e-01 -4.13613001e+00  3.44003103e+00\n",
      "   8.11999532e-02  1.07566062e+00  2.54986563e+00 -1.56333511e+00\n",
      "   2.42131972e+00  3.56345486e-01  1.25795192e+00  3.09442480e+00\n",
      "  -3.93659541e+00 -4.30124772e+00 -2.90394415e+00  3.21101726e+00\n",
      "   2.29076773e+00 -3.24601403e+00 -3.74700775e+00 -3.85267357e+00\n",
      "  -1.93303264e+00 -3.78384529e+00]\n",
      " [ 1.48958630e+00 -4.01055882e+00  2.04614903e+00 -1.72989552e-01\n",
      "  -7.10328192e+00 -5.02082150e+00 -1.36953124e+00  2.06994982e+00\n",
      "  -3.37715984e+00  1.00546290e+00  1.39653518e-02  9.31251527e-01\n",
      "  -3.89968858e-01  1.40980819e+00  4.03562175e-01 -1.23795735e+00\n",
      "   1.88269465e+00  2.41311185e+00 -4.59769675e+00 -6.45956586e-01\n",
      "   1.14953385e+00 -3.22155084e-01  2.30726979e+00 -5.60916736e+00\n",
      "   9.24509545e-01 -4.06405535e+00]\n",
      " [-4.38073099e+00  1.52284569e+00 -2.96135561e+00  1.22551998e+00\n",
      "  -3.63898317e+00 -3.86758191e+00 -2.52955072e+00  1.41914040e+00\n",
      "   9.48671793e-01 -4.42106175e-02  1.42070494e+00 -1.53295089e+00\n",
      "   2.53443694e+00 -6.46401653e+00 -4.65686567e+00 -3.59346823e+00\n",
      "  -2.55261373e+00 -2.55370705e+00  1.58443039e+00 -4.03758158e+00\n",
      "   2.87533664e+00 -4.58039063e+00  2.19403104e+00  3.84401787e-01\n",
      "   1.81557739e+00 -1.07117858e-01]\n",
      " [ 1.95908974e-01  1.42881369e+00 -5.50553376e+00 -8.37648083e-02\n",
      "  -2.60499357e+00 -4.07422021e+00  1.74530488e+00 -1.08463890e+00\n",
      "   3.52127121e-01 -1.68600319e+00 -6.47906569e+00 -5.52545281e+00\n",
      "  -2.74438497e-03  7.63488301e-01 -4.94590954e-01 -5.37594267e+00\n",
      "   5.98301661e-01 -2.54348429e+00  5.32238008e-01  7.02807173e-01\n",
      "   2.69924250e-01 -9.56633486e-01  7.20306605e-03 -1.14077594e-01\n",
      "  -9.56162151e-01  6.42592902e-01]\n",
      " [ 3.78679198e+00 -3.07979677e+00 -7.71050154e-01 -1.56155975e+00\n",
      "  -3.90181129e+00  1.13743813e+00 -4.69796574e-01 -2.74339819e+00\n",
      "   2.35766200e+00 -1.33540043e+00 -2.19488876e+00 -8.95628124e-01\n",
      "  -2.09795947e+00  3.14820000e+00 -2.96919267e+00  2.50553903e+00\n",
      "  -2.89780635e+00  1.52388300e+00 -1.69952938e+00  1.94167322e-01\n",
      "  -2.20168272e+00 -7.26381908e-01 -1.64484984e+00 -4.76217143e+00\n",
      "   1.57416590e+00  1.31277233e+00]\n",
      " [-2.41201601e+00  8.08976549e-01 -1.18251776e+00 -8.25027731e-01\n",
      "  -1.13968649e+00 -2.03998891e+00 -3.65591830e+00 -1.84963962e-01\n",
      "  -4.27253858e-01 -1.90111656e+00 -5.22318347e-01 -1.22957751e+00\n",
      "  -1.01412205e+00 -1.80775454e+00  2.96416725e+00  3.63066141e+00\n",
      "  -6.57060647e-02 -2.48953010e+00  3.58685348e+00 -2.32921232e+00\n",
      "   3.02355971e+00  4.56841096e+00 -3.84522207e+00 -6.54319407e-01\n",
      "   2.94213934e+00 -2.56418397e+00]\n",
      " [-4.81792185e+00  1.64788071e+00  8.96921283e-01 -4.23004568e+00\n",
      "   1.44503008e+00 -2.72232574e-01  9.99398469e-01 -5.70112698e+00\n",
      "  -1.04964300e+00 -5.99880527e-01 -4.09629934e-01  1.87105231e+00\n",
      "   1.82533298e+00  1.50874136e+00  1.74807770e+00 -2.01684202e+00\n",
      "  -5.70805374e+00 -2.38881302e+00  8.36409905e-01 -4.43648358e+00\n",
      "   1.46219591e+00 -2.57078497e-01 -3.70516119e+00 -2.22800812e+00\n",
      "  -2.51821436e+00  3.30727635e+00]\n",
      " [ 1.69550737e-01 -2.05726970e+00 -2.52975899e-01 -2.38339850e+00\n",
      "  -1.08079608e+00 -1.13312339e+00 -1.36103099e+00 -2.15977277e+00\n",
      "  -5.92561365e-02  3.16676057e-01  4.65592541e+00  1.65465995e-01\n",
      "   4.07073681e+00 -3.03336301e+00  7.83282368e-01 -2.15263763e-01\n",
      "  -1.09568544e+00 -1.95452891e+00  4.28778842e-01  6.11150091e-01\n",
      "  -1.42147780e+00  4.58664374e+00  6.23173911e+00  1.88713468e+00\n",
      "  -4.90264965e-01 -1.19255541e+00]\n",
      " [ 1.60888822e+00 -1.47087221e+00 -2.42479507e-01  1.74804507e+00\n",
      "   2.06387807e+00 -6.04332788e+00 -3.37617179e+00 -2.06915629e+00\n",
      "   1.92172020e+00  2.29181456e+00 -2.23706214e+00  1.65140159e+00\n",
      "  -1.22861003e+00 -3.19228440e+00  5.40106548e+00 -5.68589463e+00\n",
      "   7.47017594e-01  1.45817156e+00 -3.92618955e-01 -2.88985128e-01\n",
      "  -5.95141702e+00 -3.27010744e+00 -8.42377894e-01 -4.34222039e+00\n",
      "  -1.64332417e+00  4.45829284e-01]\n",
      " [-2.48837406e+00 -2.04618775e+00  6.40840034e+00 -2.56155918e-01\n",
      "  -1.78463836e+00 -2.93095521e+00 -5.76298887e-01 -3.02814083e+00\n",
      "  -3.45773612e-01 -9.53414085e-01 -1.96834580e-01 -6.60691313e-01\n",
      "   8.66390115e-01 -1.22010088e+00 -2.00144922e+00  2.25582772e+00\n",
      "  -2.72588666e+00  3.03455708e+00 -4.03996771e-01 -1.46835160e-01\n",
      "  -6.05107049e-01 -1.38219485e+00 -2.35860566e+00  1.98555699e+00\n",
      "   3.24305002e+00  3.17774165e+00]]\n"
     ]
    }
   ],
   "source": [
    "# the trained weights are\n",
    "print(w1, \"\\n\", w2)\n",
    "save_weights(w1, w2)"
   ]
  },
  {
   "cell_type": "code",
   "execution_count": 63,
   "id": "991b9998-8f0b-4a15-8cf9-a089e158eea7",
   "metadata": {},
   "outputs": [
    {
     "data": {
      "image/png": "[encoded data removed]",
      "text/plain": [
       "<Figure size 640x480 with 1 Axes>"
      ]
     },
     "metadata": {},
     "output_type": "display_data"
    },
    {
     "name": "stdout",
     "output_type": "stream",
     "text": [
      "Image is of letter  B 1\n"
     ]
    }
   ],
   "source": [
    "\"\"\"\n",
    "individual predictions\n",
    "The predict function will take the following arguments:\n",
    "1) image matrix\n",
    "2) w1 trained weights\n",
    "3) w2 trained weights\n",
    "\"\"\"\n",
    "predict(x[1], w1, w2)\n"
   ]
  },
  {
   "cell_type": "code",
   "execution_count": 64,
   "id": "9ece782c-c560-4d49-b0cf-6fa75ae12648",
   "metadata": {},
   "outputs": [
    {
     "data": {
      "image/png": "[encoded data removed]",
      "text/plain": [
       "<Figure size 640x480 with 1 Axes>"
      ]
     },
     "metadata": {},
     "output_type": "display_data"
    },
    {
     "name": "stdout",
     "output_type": "stream",
     "text": [
      "Image is of letter  C 2\n"
     ]
    }
   ],
   "source": [
    "predict(x[2], w1, w2)\n"
   ]
  },
  {
   "cell_type": "code",
   "execution_count": 65,
   "id": "637eff60-4ca3-426d-9847-e65f26bad1f6",
   "metadata": {},
   "outputs": [
    {
     "data": {
      "image/png": "[encoded data removed]",
      "text/plain": [
       "<Figure size 640x480 with 1 Axes>"
      ]
     },
     "metadata": {},
     "output_type": "display_data"
    },
    {
     "name": "stdout",
     "output_type": "stream",
     "text": [
      "Image is of letter  A 0\n"
     ]
    }
   ],
   "source": [
    "predict(x[0], w1, w2)\n"
   ]
  },
  {
   "cell_type": "code",
   "execution_count": 67,
   "id": "6e187909-8890-4f37-8b5e-cd34ab8eca10",
   "metadata": {},
   "outputs": [
    {
     "data": {
      "image/png": "[encoded data removed]",
      "text/plain": [
       "<Figure size 640x480 with 1 Axes>"
      ]
     },
     "metadata": {},
     "output_type": "display_data"
    },
    {
     "name": "stdout",
     "output_type": "stream",
     "text": [
      "Image is of letter  D 3\n"
     ]
    }
   ],
   "source": [
    "predict(x[3],w1,w2)"
   ]
  },
  {
   "cell_type": "code",
   "execution_count": 68,
   "id": "db8e130b-151b-4305-9a65-c3555ab87963",
   "metadata": {},
   "outputs": [
    {
     "data": {
      "image/png": "[encoded data removed]",
      "text/plain": [
       "<Figure size 640x480 with 1 Axes>"
      ]
     },
     "metadata": {},
     "output_type": "display_data"
    },
    {
     "name": "stdout",
     "output_type": "stream",
     "text": [
      "Image is of letter  A 0\n"
     ]
    },
    {
     "data": {
      "image/png": "[encoded data removed]",
      "text/plain": [
       "<Figure size 640x480 with 1 Axes>"
      ]
     },
     "metadata": {},
     "output_type": "display_data"
    },
    {
     "name": "stdout",
     "output_type": "stream",
     "text": [
      "Image is of letter  B 1\n"
     ]
    },
    {
     "data": {
      "image/png": "[encoded data removed]",
      "text/plain": [
       "<Figure size 640x480 with 1 Axes>"
      ]
     },
     "metadata": {},
     "output_type": "display_data"
    },
    {
     "name": "stdout",
     "output_type": "stream",
     "text": [
      "Image is of letter  C 2\n"
     ]
    },
    {
     "data": {
      "image/png": "[encoded data removed]",
      "text/plain": [
       "<Figure size 640x480 with 1 Axes>"
      ]
     },
     "metadata": {},
     "output_type": "display_data"
    },
    {
     "name": "stdout",
     "output_type": "stream",
     "text": [
      "Image is of letter  D 3\n"
     ]
    },
    {
     "data": {
      "image/png": "[encoded data removed]",
      "text/plain": [
       "<Figure size 640x480 with 1 Axes>"
      ]
     },
     "metadata": {},
     "output_type": "display_data"
    },
    {
     "name": "stdout",
     "output_type": "stream",
     "text": [
      "Image is of letter  E 4\n"
     ]
    },
    {
     "data": {
      "image/png": "[encoded data removed]",
      "text/plain": [
       "<Figure size 640x480 with 1 Axes>"
      ]
     },
     "metadata": {},
     "output_type": "display_data"
    },
    {
     "name": "stdout",
     "output_type": "stream",
     "text": [
      "Image is of letter  F 5\n"
     ]
    },
    {
     "data": {
      "image/png": "[encoded data removed]",
      "text/plain": [
       "<Figure size 640x480 with 1 Axes>"
      ]
     },
     "metadata": {},
     "output_type": "display_data"
    },
    {
     "name": "stdout",
     "output_type": "stream",
     "text": [
      "Image is of letter  G 6\n"
     ]
    },
    {
     "data": {
      "image/png": "[encoded data removed]",
      "text/plain": [
       "<Figure size 640x480 with 1 Axes>"
      ]
     },
     "metadata": {},
     "output_type": "display_data"
    },
    {
     "name": "stdout",
     "output_type": "stream",
     "text": [
      "Image is of letter  H 7\n"
     ]
    },
    {
     "data": {
      "image/png": "[encoded data removed]",
      "text/plain": [
       "<Figure size 640x480 with 1 Axes>"
      ]
     },
     "metadata": {},
     "output_type": "display_data"
    },
    {
     "name": "stdout",
     "output_type": "stream",
     "text": [
      "Image is of letter  I 8\n"
     ]
    },
    {
     "data": {
      "image/png": "[encoded data removed]",
      "text/plain": [
       "<Figure size 640x480 with 1 Axes>"
      ]
     },
     "metadata": {},
     "output_type": "display_data"
    },
    {
     "name": "stdout",
     "output_type": "stream",
     "text": [
      "Image is of letter  J 9\n"
     ]
    },
    {
     "data": {
      "image/png": "[encoded data removed]",
      "text/plain": [
       "<Figure size 640x480 with 1 Axes>"
      ]
     },
     "metadata": {},
     "output_type": "display_data"
    },
    {
     "name": "stdout",
     "output_type": "stream",
     "text": [
      "Image is of letter  K 10\n"
     ]
    },
    {
     "data": {
      "image/png": "[encoded data removed]",
      "text/plain": [
       "<Figure size 640x480 with 1 Axes>"
      ]
     },
     "metadata": {},
     "output_type": "display_data"
    },
    {
     "name": "stdout",
     "output_type": "stream",
     "text": [
      "Image is of letter  L 11\n"
     ]
    },
    {
     "data": {
      "image/png": "[encoded data removed]",
      "text/plain": [
       "<Figure size 640x480 with 1 Axes>"
      ]
     },
     "metadata": {},
     "output_type": "display_data"
    },
    {
     "name": "stdout",
     "output_type": "stream",
     "text": [
      "Image is of letter  M 12\n"
     ]
    },
    {
     "data": {
      "image/png": "[encoded data removed]",
      "text/plain": [
       "<Figure size 640x480 with 1 Axes>"
      ]
     },
     "metadata": {},
     "output_type": "display_data"
    },
    {
     "name": "stdout",
     "output_type": "stream",
     "text": [
      "Image is of letter  N 13\n"
     ]
    },
    {
     "data": {
      "image/png": "[encoded data removed]",
      "text/plain": [
       "<Figure size 640x480 with 1 Axes>"
      ]
     },
     "metadata": {},
     "output_type": "display_data"
    },
    {
     "name": "stdout",
     "output_type": "stream",
     "text": [
      "Image is of letter  O 14\n"
     ]
    },
    {
     "data": {
      "image/png": "[encoded data removed]",
      "text/plain": [
       "<Figure size 640x480 with 1 Axes>"
      ]
     },
     "metadata": {},
     "output_type": "display_data"
    },
    {
     "name": "stdout",
     "output_type": "stream",
     "text": [
      "Image is of letter  P 15\n"
     ]
    },
    {
     "data": {
      "image/png": "[encoded data removed]",
      "text/plain": [
       "<Figure size 640x480 with 1 Axes>"
      ]
     },
     "metadata": {},
     "output_type": "display_data"
    },
    {
     "name": "stdout",
     "output_type": "stream",
     "text": [
      "Image is of letter  Q 16\n"
     ]
    },
    {
     "data": {
      "image/png": "[encoded data removed]",
      "text/plain": [
       "<Figure size 640x480 with 1 Axes>"
      ]
     },
     "metadata": {},
     "output_type": "display_data"
    },
    {
     "name": "stdout",
     "output_type": "stream",
     "text": [
      "Image is of letter  R 17\n"
     ]
    },
    {
     "data": {
      "image/png": "[encoded data removed]",
      "text/plain": [
       "<Figure size 640x480 with 1 Axes>"
      ]
     },
     "metadata": {},
     "output_type": "display_data"
    },
    {
     "name": "stdout",
     "output_type": "stream",
     "text": [
      "Image is of letter  S 18\n"
     ]
    },
    {
     "data": {
      "image/png": "[encoded data removed]",
      "text/plain": [
       "<Figure size 640x480 with 1 Axes>"
      ]
     },
     "metadata": {},
     "output_type": "display_data"
    },
    {
     "name": "stdout",
     "output_type": "stream",
     "text": [
      "Image is of letter  T 19\n"
     ]
    },
    {
     "data": {
      "image/png": "[encoded data removed]",
      "text/plain": [
       "<Figure size 640x480 with 1 Axes>"
      ]
     },
     "metadata": {},
     "output_type": "display_data"
    },
    {
     "name": "stdout",
     "output_type": "stream",
     "text": [
      "Image is of letter  U 20\n"
     ]
    },
    {
     "data": {
      "image/png": "[encoded data removed]",
      "text/plain": [
       "<Figure size 640x480 with 1 Axes>"
      ]
     },
     "metadata": {},
     "output_type": "display_data"
    },
    {
     "name": "stdout",
     "output_type": "stream",
     "text": [
      "Image is of letter  V 21\n"
     ]
    },
    {
     "data": {
      "image/png": "[encoded data removed]",
      "text/plain": [
       "<Figure size 640x480 with 1 Axes>"
      ]
     },
     "metadata": {},
     "output_type": "display_data"
    },
    {
     "name": "stdout",
     "output_type": "stream",
     "text": [
      "Image is of letter  W 22\n"
     ]
    },
    {
     "data": {
      "image/png": "[encoded data removed]",
      "text/plain": [
       "<Figure size 640x480 with 1 Axes>"
      ]
     },
     "metadata": {},
     "output_type": "display_data"
    },
    {
     "name": "stdout",
     "output_type": "stream",
     "text": [
      "Image is of letter  X 23\n"
     ]
    },
    {
     "data": {
      "image/png": "[encoded data removed]",
      "text/plain": [
       "<Figure size 640x480 with 1 Axes>"
      ]
     },
     "metadata": {},
     "output_type": "display_data"
    },
    {
     "name": "stdout",
     "output_type": "stream",
     "text": [
      "Image is of letter  Y 24\n"
     ]
    },
    {
     "data": {
      "image/png": "[encoded data removed]",
      "text/plain": [
       "<Figure size 640x480 with 1 Axes>"
      ]
     },
     "metadata": {},
     "output_type": "display_data"
    },
    {
     "name": "stdout",
     "output_type": "stream",
     "text": [
      "Image is of letter  Z 25\n"
     ]
    }
   ],
   "source": [
    "#Checking prediction with inputs\n",
    "for i in x:\n",
    "    predict(i,w1,w2)"
   ]
  },
  {
   "cell_type": "code",
   "execution_count": 69,
   "id": "50a67709-ca50-421b-aec6-6ffa1ee70667",
   "metadata": {},
   "outputs": [
    {
     "data": {
      "image/png": "[encoded data removed]",
      "text/plain": [
       "<Figure size 640x480 with 1 Axes>"
      ]
     },
     "metadata": {},
     "output_type": "display_data"
    },
    {
     "name": "stdout",
     "output_type": "stream",
     "text": [
      "Image is of letter  F 5\n"
     ]
    }
   ],
   "source": [
    "#predicting by some other data\n",
    "#for example similar like f\n",
    "newf = [1,1,1,1,1,\n",
    "          1,0,0,0,0,\n",
    "          1,1,1,1,1, #here i change littel bit you can check actual f in above output\n",
    "          1,0,0,0,0,\n",
    "          1,0,0,0,0,\n",
    "          1,0,0,0,0]\n",
    "predict(np.array(newf).reshape(1,30),w1,w2)"
   ]
  },
  {
   "cell_type": "code",
   "execution_count": null,
   "id": "3b8a4ac2-3f10-41ff-9bec-e704d4dc1f5c",
   "metadata": {},
   "outputs": [],
   "source": []
  },
  {
   "cell_type": "markdown",
   "id": "98f49c7c-f110-49c5-b81e-6b450ea94b7f",
   "metadata": {},
   "source": [
    "###### "
   ]
  }
 ],
 "metadata": {
  "kernelspec": {
   "display_name": "Python 3 (ipykernel)",
   "language": "python",
   "name": "python3"
  },
  "language_info": {
   "codemirror_mode": {
    "name": "ipython",
    "version": 3
   },
   "file_extension": ".py",
   "mimetype": "text/x-python",
   "name": "python",
   "nbconvert_exporter": "python",
   "pygments_lexer": "ipython3",
   "version": "3.13.2"
  }
 },
 "nbformat": 4,
 "nbformat_minor": 5
}
